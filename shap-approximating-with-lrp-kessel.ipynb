{
 "cells": [
  {
   "cell_type": "code",
   "execution_count": 187,
   "id": "97626eca-2811-4aae-b2ab-92c50361814a",
   "metadata": {},
   "outputs": [
    {
     "name": "stdout",
     "output_type": "stream",
     "text": [
      "The autoreload extension is already loaded. To reload it, use:\n",
      "  %reload_ext autoreload\n"
     ]
    }
   ],
   "source": [
    "import shap\n",
    "import numpy as np\n",
    "import torch\n",
    "import torch.nn.functional as F\n",
    "import matplotlib.pyplot as plt\n",
    "\n",
    "from tqdm.notebook import tqdm\n",
    "import copy\n",
    "\n",
    "from util.util_cnn import CNNModel, data_loaders, first_mnist_batch, test, \\\n",
    "                params_to_filename, params_from_filename, load_mnist_v4_models\n",
    "\n",
    "from util.naming import *\n",
    "from util.util_lrp import layerwise_forward_pass, compute_relevancies, LRP_global_mat, calc_mats_batch_functional, forward_and_explain\n",
    "from util.util_tutorial import heatmap\n",
    "from util.util_pickle import load_data, save_data, get_shap_configs, load_shaps\n",
    "\n",
    "# pan kessel\n",
    "from explanations_can_be_manipulated.src.nn.enums import ExplainingMethod, LRPRule\n",
    "from explanations_can_be_manipulated.src.nn.networks import ExplainableNet\n",
    "from explanations_can_be_manipulated.src.nn.utils import get_expl, plot_overview, clamp, load_image, make_dir\n",
    "\n",
    "device = 'cpu'\n",
    "method = ExplainingMethod.lrp\n",
    "\n",
    "%matplotlib inline\n",
    "%load_ext autoreload\n",
    "%autoreload 2"
   ]
  },
  {
   "cell_type": "code",
   "execution_count": 2,
   "id": "9afe009d-5f8d-4880-9a51-2deac3069114",
   "metadata": {},
   "outputs": [],
   "source": [
    "# load data and pretrained models\n",
    "data, target = first_mnist_batch(batch_size=100)\n",
    "background, background_target = first_mnist_batch(batch_size=100, test=False)\n",
    "\n",
    "background = background.reshape((-1, 1, 28, 28))\n",
    "test_images = data[:3].reshape((-1, 1, 28, 28))\n",
    "\n",
    "model_dict = load_mnist_v4_models()\n",
    "model_d3 = model_dict[d3_tag]"
   ]
  },
  {
   "cell_type": "code",
   "execution_count": 3,
   "id": "433e1a8b-492c-4299-b9f3-193564bdb615",
   "metadata": {},
   "outputs": [
    {
     "data": {
      "text/plain": [
       "torch.Size([100, 784])"
      ]
     },
     "execution_count": 3,
     "metadata": {},
     "output_type": "execute_result"
    }
   ],
   "source": [
    "data.shape"
   ]
  },
  {
   "cell_type": "markdown",
   "id": "351fd26e-8a13-45cd-9a9b-8049f52df282",
   "metadata": {
    "tags": []
   },
   "source": [
    "## Load precomputed shapley values"
   ]
  },
  {
   "cell_type": "code",
   "execution_count": 172,
   "id": "bf442063-5262-413e-b013-3a89e5e2ad6f",
   "metadata": {},
   "outputs": [
    {
     "name": "stderr",
     "output_type": "stream",
     "text": [
      "100%|███████████████████████████████████| 1695/1695 [00:00<00:00, 783312.61it/s]\n"
     ]
    },
    {
     "data": {
      "text/plain": [
       "array(['shap__background_size-100__batch_size-10__model-cb1-8-8-8_cb2-16-16-16_seed-0',\n",
       "       'shap__background_size-400__batch_size-10__model-cb1-8-8-8_cb2-16-16-16_seed-0'],\n",
       "      dtype='<U77')"
      ]
     },
     "execution_count": 172,
     "metadata": {},
     "output_type": "execute_result"
    }
   ],
   "source": [
    "shap_configs = get_shap_configs('d3')\n",
    "shap_configs"
   ]
  },
  {
   "cell_type": "code",
   "execution_count": 184,
   "id": "66b9dd5b-9925-414c-9b80-2bb5882b9088",
   "metadata": {},
   "outputs": [
    {
     "name": "stderr",
     "output_type": "stream",
     "text": [
      "100%|██████████████████████████████████████| 1695/1695 [00:03<00:00, 461.61it/s]\n",
      "100%|██████████████████████████████████████| 1695/1695 [00:03<00:00, 446.97it/s]\n"
     ]
    },
    {
     "name": "stdout",
     "output_type": "stream",
     "text": [
      "shap__background_size-100__batch_size-10__model-cb1-8-8-8_cb2-16-16-16_seed-0 (8400, 10, 1, 28, 28)\n",
      "shap__background_size-400__batch_size-10__model-cb1-8-8-8_cb2-16-16-16_seed-0 (8400, 10, 1, 28, 28)\n"
     ]
    }
   ],
   "source": [
    "shaps_per_config = { config: load_shaps('d3', config) for config in shap_configs }\n",
    "    \n",
    "for config, data in (shaps_per_config.items()):\n",
    "    print(config, data.shape)"
   ]
  },
  {
   "cell_type": "code",
   "execution_count": 173,
   "id": "bf33b68e-2829-4633-b87a-52b15ed4b18d",
   "metadata": {},
   "outputs": [
    {
     "name": "stderr",
     "output_type": "stream",
     "text": [
      "100%|██████████████████████████████████████| 1695/1695 [00:03<00:00, 466.58it/s]\n"
     ]
    },
    {
     "data": {
      "text/plain": [
       "(8400, 10, 1, 28, 28)"
      ]
     },
     "execution_count": 173,
     "metadata": {},
     "output_type": "execute_result"
    }
   ],
   "source": [
    "shaps = load_shaps('d3', shap_configs[0])\n",
    "shaps.shape"
   ]
  },
  {
   "cell_type": "code",
   "execution_count": 183,
   "id": "062104b6-78e8-4b1f-8fe8-317551ffb8aa",
   "metadata": {},
   "outputs": [
    {
     "name": "stderr",
     "output_type": "stream",
     "text": [
      "100%|██████████████████████████████████████| 1695/1695 [00:03<00:00, 432.52it/s]\n"
     ]
    }
   ],
   "source": [
    "test_loader_shap = data_loaders(shapley_values_for=('d3', shap_configs[0]))"
   ]
  },
  {
   "cell_type": "markdown",
   "id": "218b5552-b9b0-43fb-8c07-3df30b914efe",
   "metadata": {},
   "source": [
    "## Import the Explainable model of Pan"
   ]
  },
  {
   "cell_type": "code",
   "execution_count": 4,
   "id": "db561856-6851-47b9-ab3f-4fd40bd53eaa",
   "metadata": {},
   "outputs": [],
   "source": [
    "model = ExplainableNet(model_d3).eval().to(device)"
   ]
  },
  {
   "cell_type": "code",
   "execution_count": 5,
   "id": "cfda0efc-051d-4602-ad61-f599ce2243b8",
   "metadata": {},
   "outputs": [],
   "source": [
    "gamma = 2\n",
    "model.change_lrp_rules(gamma=gamma, lrp_rule_nl=LRPRule.gamma)"
   ]
  },
  {
   "cell_type": "code",
   "execution_count": 5,
   "id": "dd12a211-f878-4dcd-9225-96fc65f93cd3",
   "metadata": {},
   "outputs": [
    {
     "name": "stdout",
     "output_type": "stream",
     "text": [
      "0 0.0 LRPRule.z_b\n",
      "1 0.0 LRPRule.alpha_beta\n",
      "2 0.0 LRPRule.alpha_beta\n",
      "3 MaxPool\n",
      "4 0.0 LRPRule.alpha_beta\n",
      "5 0.0 LRPRule.alpha_beta\n",
      "6 0.0 LRPRule.alpha_beta\n",
      "7 MaxPool\n",
      "8 Flatten\n",
      "9 0.0 LRPRule.alpha_beta\n"
     ]
    }
   ],
   "source": [
    "for i, l in enumerate(model.layers):\n",
    "    try: print(i, l.gamma, l.lrp_rule)\n",
    "    except: print(i, str(l).split('(')[0])"
   ]
  },
  {
   "cell_type": "code",
   "execution_count": 48,
   "id": "041f6c09-1c84-489b-abe0-75712b8d48c1",
   "metadata": {},
   "outputs": [],
   "source": [
    "x = data[:1].reshape((-1,1,28,28))\n",
    "expl, output, classification = get_expl(model, test_images, method)"
   ]
  },
  {
   "cell_type": "code",
   "execution_count": 49,
   "id": "c4d08605-dc0f-4ff6-9d5e-1292ca2a78dd",
   "metadata": {},
   "outputs": [
    {
     "data": {
      "image/png": "[encoded data removed]",
      "text/plain": [
       "<Figure size 200x200 with 2 Axes>"
      ]
     },
     "metadata": {},
     "output_type": "display_data"
    }
   ],
   "source": [
    "heatmap(expl[0].detach().reshape((28,28)), 2, 2, colorbar=True)"
   ]
  },
  {
   "cell_type": "markdown",
   "id": "c58c8115-fa19-4173-a6e8-d2a9fc713892",
   "metadata": {
    "jp-MarkdownHeadingCollapsed": true,
    "tags": []
   },
   "source": [
    "### Check equivalence to my implementation"
   ]
  },
  {
   "cell_type": "code",
   "execution_count": 50,
   "id": "183b87a5-e68d-44f9-8afd-0f8dd7331f62",
   "metadata": {},
   "outputs": [
    {
     "data": {
      "image/png": "[encoded data removed]",
      "text/plain": [
       "<Figure size 200x200 with 2 Axes>"
      ]
     },
     "metadata": {},
     "output_type": "display_data"
    }
   ],
   "source": [
    "heatmap(rel(95)[0][0].reshape((28,28)), 2, 2, colorbar=True)"
   ]
  },
  {
   "cell_type": "code",
   "execution_count": 51,
   "id": "d0584727-d05f-470a-9a9c-04c1cf9f02a2",
   "metadata": {},
   "outputs": [
    {
     "data": {
      "text/plain": [
       "(torch.Size([28, 28]), torch.Size([28, 28]))"
      ]
     },
     "execution_count": 51,
     "metadata": {},
     "output_type": "execute_result"
    }
   ],
   "source": [
    "a = rel(95)[0][0, 0]\n",
    "b = expl[0]\n",
    "\n",
    "a.shape, b.shape"
   ]
  },
  {
   "cell_type": "code",
   "execution_count": 52,
   "id": "bdbf5243-a8f7-4dcd-9143-107ab6eea0bf",
   "metadata": {},
   "outputs": [
    {
     "data": {
      "image/png": "[encoded data removed]",
      "text/plain": [
       "<Figure size 200x200 with 2 Axes>"
      ]
     },
     "metadata": {},
     "output_type": "display_data"
    }
   ],
   "source": [
    "c = a\n",
    "c[b>0] = b[b>0]\n",
    "heatmap(c.detach(), colorbar=1)"
   ]
  },
  {
   "cell_type": "code",
   "execution_count": 53,
   "id": "b65cf87d-83ea-4789-9c96-583dbbbf87bb",
   "metadata": {},
   "outputs": [
    {
     "data": {
      "image/png": "[encoded data removed]",
      "text/plain": [
       "<Figure size 200x200 with 2 Axes>"
      ]
     },
     "metadata": {},
     "output_type": "display_data"
    }
   ],
   "source": [
    "heatmap((a-b).detach(), colorbar=1)"
   ]
  },
  {
   "cell_type": "code",
   "execution_count": 54,
   "id": "a52206fd-4797-4de6-9f54-87a3b94d2508",
   "metadata": {},
   "outputs": [
    {
     "data": {
      "text/plain": [
       "tensor(1.9183e-06)"
      ]
     },
     "execution_count": 54,
     "metadata": {},
     "output_type": "execute_result"
    }
   ],
   "source": [
    "np.abs((a-b).detach()).max()"
   ]
  },
  {
   "cell_type": "markdown",
   "id": "a06e56ba-7c4b-4605-90e3-7eb1c2ac6803",
   "metadata": {},
   "source": [
    "## SGD on Gamma"
   ]
  },
  {
   "cell_type": "code",
   "execution_count": 39,
   "id": "705dca43-753d-4366-bd40-3cc9c1e684a3",
   "metadata": {},
   "outputs": [],
   "source": [
    "del ExplainableNet\n",
    "from explanations_can_be_manipulated.src.nn.networks import ExplainableNet"
   ]
  },
  {
   "cell_type": "code",
   "execution_count": 5,
   "id": "2c446e73-0103-4d25-8e97-ffbeaf86e4c7",
   "metadata": {},
   "outputs": [
    {
     "name": "stdout",
     "output_type": "stream",
     "text": [
      "0 Convolutional\n",
      "1 Convolutional\n",
      "2 Convolutional\n",
      "3 MaxPool\n",
      "4 Convolutional\n",
      "5 Convolutional\n",
      "6 Convolutional\n",
      "7 MaxPool\n",
      "8 Flatten\n",
      "9 Dense\n"
     ]
    }
   ],
   "source": [
    "model = ExplainableNet(model_d3).eval().to(device)\n",
    "\n",
    "for i, l in enumerate(model.layers): print(i, str(l).split('(')[0])"
   ]
  },
  {
   "cell_type": "code",
   "execution_count": 86,
   "id": "c0ad3fb2-074e-4264-b0c8-52abc5ed3165",
   "metadata": {},
   "outputs": [
    {
     "name": "stdout",
     "output_type": "stream",
     "text": [
      "0 tensor([nan], requires_grad=True) LRPRule.z_b\n",
      "1 tensor([nan], requires_grad=True) LRPRule.gamma\n",
      "2 tensor([nan], requires_grad=True) LRPRule.gamma\n",
      "3 MaxPool\n",
      "4 tensor([nan], requires_grad=True) LRPRule.gamma\n",
      "5 tensor([nan], requires_grad=True) LRPRule.gamma\n",
      "6 tensor([nan], requires_grad=True) LRPRule.gamma\n",
      "7 MaxPool\n",
      "8 Flatten\n",
      "9 0.0 LRPRule.alpha_beta\n"
     ]
    }
   ],
   "source": [
    "for i, l in enumerate(model.layers):\n",
    "    try: print(i, l.gamma, l.lrp_rule)\n",
    "    except: print(i, str(l).split('(')[0])"
   ]
  },
  {
   "cell_type": "code",
   "execution_count": 102,
   "id": "106d1680-f73c-45ac-848a-75da5d42fc84",
   "metadata": {},
   "outputs": [
    {
     "name": "stdout",
     "output_type": "stream",
     "text": [
      "background_size\n",
      "batch_size\n",
      "model\n"
     ]
    }
   ],
   "source": [
    "config = {\n",
    "    'background_size': 100,\n",
    "    'batch_size': 10,\n",
    "    'model': d3_tag\n",
    "}\n",
    "config = sorted(config)\n",
    "for k in config: print( k)"
   ]
  },
  {
   "cell_type": "code",
   "execution_count": 88,
   "id": "3de37363-1506-455f-8087-101b2795a951",
   "metadata": {},
   "outputs": [],
   "source": [
    "shap_predicted_class = first_batch_shap[np.arange(batch_size), classification]"
   ]
  },
  {
   "cell_type": "code",
   "execution_count": 95,
   "id": "e1e6fca4-eff1-46db-94a1-93d88467cf84",
   "metadata": {},
   "outputs": [
    {
     "data": {
      "text/plain": [
       "39174"
      ]
     },
     "execution_count": 95,
     "metadata": {},
     "output_type": "execute_result"
    }
   ],
   "source": [
    "((shap_predicted_class > 0) == (expl[:, None].detach().numpy() > 0)).sum()"
   ]
  },
  {
   "cell_type": "code",
   "execution_count": 97,
   "id": "e3064c39-1ac8-4113-a459-737446518237",
   "metadata": {},
   "outputs": [
    {
     "name": "stdout",
     "output_type": "stream",
     "text": [
      "30754\n",
      "24599\n",
      "27062\n",
      "28275\n",
      "25174\n",
      "27005\n",
      "29087\n",
      "26487\n",
      "29422\n",
      "28218\n"
     ]
    }
   ],
   "source": [
    "for i in range(10):\n",
    "    print(((first_batch_shap[:, i] > 0) == (expl[:, None].detach().numpy() > 0)).sum())"
   ]
  },
  {
   "cell_type": "code",
   "execution_count": 92,
   "id": "91185691-b129-425a-9565-78622d4c2fa6",
   "metadata": {},
   "outputs": [
    {
     "data": {
      "text/plain": [
       "103.42580067424151"
      ]
     },
     "execution_count": 92,
     "metadata": {},
     "output_type": "execute_result"
    }
   ],
   "source": [
    "((first_batch_shap[:, 0] - expl[:, None].detach().numpy())**2).sum()"
   ]
  },
  {
   "cell_type": "code",
   "execution_count": 147,
   "id": "532b9eaf-3766-447b-9334-df4bef0143d9",
   "metadata": {},
   "outputs": [
    {
     "ename": "ValueError",
     "evalue": "all input arrays must have the same shape",
     "output_type": "error",
     "traceback": [
      "\u001b[0;31m---------------------------------------------------------------------------\u001b[0m",
      "\u001b[0;31mValueError\u001b[0m                                Traceback (most recent call last)",
      "Cell \u001b[0;32mIn[147], line 1\u001b[0m\n\u001b[0;32m----> 1\u001b[0m combined \u001b[38;5;241m=\u001b[39m \u001b[43mnp\u001b[49m\u001b[38;5;241;43m.\u001b[39;49m\u001b[43mstack\u001b[49m\u001b[43m(\u001b[49m\u001b[43m(\u001b[49m\u001b[43mshap_predicted_class\u001b[49m\u001b[43m[\u001b[49m\u001b[43m:\u001b[49m\u001b[43m,\u001b[49m\u001b[43m \u001b[49m\u001b[38;5;241;43m0\u001b[39;49m\u001b[43m]\u001b[49m\u001b[43m,\u001b[49m\u001b[43m \u001b[49m\u001b[43mexpl\u001b[49m\u001b[38;5;241;43m.\u001b[39;49m\u001b[43mdetach\u001b[49m\u001b[43m(\u001b[49m\u001b[43m)\u001b[49m\u001b[38;5;241;43m.\u001b[39;49m\u001b[43mnumpy\u001b[49m\u001b[43m(\u001b[49m\u001b[43m)\u001b[49m\u001b[43m)\u001b[49m\u001b[43m)\u001b[49m\u001b[38;5;241m.\u001b[39mtranspose((\u001b[38;5;241m1\u001b[39m, \u001b[38;5;241m0\u001b[39m, \u001b[38;5;241m2\u001b[39m, \u001b[38;5;241m3\u001b[39m))\n\u001b[1;32m      2\u001b[0m combined\u001b[38;5;241m.\u001b[39mshape\n",
      "File \u001b[0;32m<__array_function__ internals>:180\u001b[0m, in \u001b[0;36mstack\u001b[0;34m(*args, **kwargs)\u001b[0m\n",
      "File \u001b[0;32m~/msc/lib/python3.8/site-packages/numpy/core/shape_base.py:426\u001b[0m, in \u001b[0;36mstack\u001b[0;34m(arrays, axis, out)\u001b[0m\n\u001b[1;32m    424\u001b[0m shapes \u001b[38;5;241m=\u001b[39m {arr\u001b[38;5;241m.\u001b[39mshape \u001b[38;5;28;01mfor\u001b[39;00m arr \u001b[38;5;129;01min\u001b[39;00m arrays}\n\u001b[1;32m    425\u001b[0m \u001b[38;5;28;01mif\u001b[39;00m \u001b[38;5;28mlen\u001b[39m(shapes) \u001b[38;5;241m!=\u001b[39m \u001b[38;5;241m1\u001b[39m:\n\u001b[0;32m--> 426\u001b[0m     \u001b[38;5;28;01mraise\u001b[39;00m \u001b[38;5;167;01mValueError\u001b[39;00m(\u001b[38;5;124m'\u001b[39m\u001b[38;5;124mall input arrays must have the same shape\u001b[39m\u001b[38;5;124m'\u001b[39m)\n\u001b[1;32m    428\u001b[0m result_ndim \u001b[38;5;241m=\u001b[39m arrays[\u001b[38;5;241m0\u001b[39m]\u001b[38;5;241m.\u001b[39mndim \u001b[38;5;241m+\u001b[39m \u001b[38;5;241m1\u001b[39m\n\u001b[1;32m    429\u001b[0m axis \u001b[38;5;241m=\u001b[39m normalize_axis_index(axis, result_ndim)\n",
      "\u001b[0;31mValueError\u001b[0m: all input arrays must have the same shape"
     ]
    }
   ],
   "source": [
    "combined = np.stack((shap_predicted_class[:, 0], expl.detach().numpy())).transpose((1, 0, 2, 3))\n",
    "combined.shape"
   ]
  },
  {
   "cell_type": "code",
   "execution_count": 79,
   "id": "451f056c-a0a7-40e7-8dba-04fe48777364",
   "metadata": {},
   "outputs": [
    {
     "data": {
      "text/plain": [
       "(100, 2, 28, 28)"
      ]
     },
     "execution_count": 79,
     "metadata": {},
     "output_type": "execute_result"
    }
   ],
   "source": [
    "combined = np.stack((x[:, 0].detach().numpy(), expl.detach().numpy())).transpose((1, 0, 2, 3))\n",
    "combined.shape"
   ]
  },
  {
   "cell_type": "code",
   "execution_count": 105,
   "id": "cdb23b6a-d71f-4c17-9855-6b41167bfb03",
   "metadata": {},
   "outputs": [
    {
     "data": {
      "text/plain": [
       "((100, 1, 28, 28), torch.Size([100, 28, 28]))"
      ]
     },
     "execution_count": 105,
     "metadata": {},
     "output_type": "execute_result"
    }
   ],
   "source": [
    "shap_predicted_class.shape, expl.shape"
   ]
  },
  {
   "cell_type": "code",
   "execution_count": 148,
   "id": "66767595-1b66-44e1-bd89-3073a019c516",
   "metadata": {},
   "outputs": [
    {
     "data": {
      "image/png": "[encoded data removed]",
      "text/plain": [
       "<Figure size 640x480 with 2 Axes>"
      ]
     },
     "metadata": {},
     "output_type": "display_data"
    },
    {
     "data": {
      "image/png": "[encoded data removed]",
      "text/plain": [
       "<Figure size 640x480 with 2 Axes>"
      ]
     },
     "metadata": {},
     "output_type": "display_data"
    },
    {
     "data": {
      "image/png": "[encoded data removed]",
      "text/plain": [
       "<Figure size 640x480 with 2 Axes>"
      ]
     },
     "metadata": {},
     "output_type": "display_data"
    },
    {
     "data": {
      "image/png": "[encoded data removed]",
      "text/plain": [
       "<Figure size 640x480 with 2 Axes>"
      ]
     },
     "metadata": {},
     "output_type": "display_data"
    },
    {
     "data": {
      "image/png": "[encoded data removed]",
      "text/plain": [
       "<Figure size 640x480 with 2 Axes>"
      ]
     },
     "metadata": {},
     "output_type": "display_data"
    }
   ],
   "source": [
    "comb = combined.copy()\n",
    "\n",
    "# shapeley values and lrp explanation have very differetn scales -> norm them\n",
    "\n",
    "if True: # norm by std\n",
    "    comb /= combined.std(axis=(2,3), keepdims=True)\n",
    "else:    # norm by l1 norm\n",
    "    comb /= np.sum(np.abs(comb), axis=(2,3), keepdims=True)\n",
    "    \n",
    "for shap_img, expl_img in comb[:5]:\n",
    "    fig, (ax1, ax2) = plt.subplots(1, 2)\n",
    "    ax1.imshow(shap_img)\n",
    "    ax2.imshow(expl_img)\n",
    "    plt.show()\n"
   ]
  },
  {
   "cell_type": "code",
   "execution_count": null,
   "id": "4b6eb152-3dca-4a55-ba79-c9f8bd9ae098",
   "metadata": {},
   "outputs": [],
   "source": [
    "del ExplainableNet\n",
    "from explanations_can_be_manipulated.src.nn.networks import ExplainableNet"
   ]
  },
  {
   "cell_type": "code",
   "execution_count": 112,
   "id": "d80ac2a1-bcc7-45a9-b8d9-c598271271d1",
   "metadata": {},
   "outputs": [],
   "source": [
    "del tqdm\n",
    "from tqdm import tqdm\n",
    "_, test_loader = data_loaders()"
   ]
  },
  {
   "cell_type": "code",
   "execution_count": 121,
   "id": "4ef1ffb9-8fa4-46b0-af9f-902f66742c96",
   "metadata": {},
   "outputs": [
    {
     "data": {
      "text/plain": [
       "torch.Size([100, 784])"
      ]
     },
     "execution_count": 121,
     "metadata": {},
     "output_type": "execute_result"
    }
   ],
   "source": [
    "first_batch_x, _ = first_mnist_batch()\n",
    "first_batch_x.shape"
   ]
  },
  {
   "cell_type": "code",
   "execution_count": 149,
   "id": "aab4aee7-ea1f-4eea-b23d-7c0b0519dbe5",
   "metadata": {},
   "outputs": [
    {
     "name": "stdout",
     "output_type": "stream",
     "text": [
      "0 tensor([0.0510], requires_grad=True) LRPRule.z_b\n",
      "1 tensor([0.0510], requires_grad=True) LRPRule.gamma\n",
      "2 tensor([0.0510], requires_grad=True) LRPRule.gamma\n",
      "3 MaxPool\n",
      "4 tensor([0.0500], requires_grad=True) LRPRule.gamma\n",
      "5 tensor([0.0500], requires_grad=True) LRPRule.gamma\n",
      "6 tensor([0.0500], requires_grad=True) LRPRule.gamma\n",
      "7 MaxPool\n",
      "8 Flatten\n",
      "9 0.0 LRPRule.alpha_beta\n"
     ]
    }
   ],
   "source": [
    "gamma_early = torch.Tensor([0.051]).requires_grad_(True)\n",
    "gamma_late  = torch.Tensor([0.050]).requires_grad_(True)\n",
    "\n",
    "model = ExplainableNet(model_d3).eval().to(device)\n",
    "model.change_lrp_rules(gamma=gamma_early, lrp_rule_nl=LRPRule.gamma, start_l=0, end_l=3)\n",
    "model.change_lrp_rules(gamma=gamma_late , lrp_rule_nl=LRPRule.gamma, start_l=4, end_l=8)\n",
    "\n",
    "for i, l in enumerate(model.layers):\n",
    "    try: print(i, l.gamma, l.lrp_rule)\n",
    "    except: print(i, str(l).split('(')[0])\n",
    "    \n",
    "gammas = []\n",
    "losses = []\n",
    "optimizer = torch.optim.Adam([gamma_early, gamma_late], lr=0.01)"
   ]
  },
  {
   "cell_type": "code",
   "execution_count": null,
   "id": "7c194021-1e27-42af-b9a9-6259398691b2",
   "metadata": {},
   "outputs": [
    {
     "name": "stderr",
     "output_type": "stream",
     "text": [
      " 75%|██████████████████████████████          | 751/1000 [03:49<01:15,  3.29it/s]"
     ]
    }
   ],
   "source": [
    "n_epochs = 1000\n",
    "loss_func = 'shap prediction_only'\n",
    "\n",
    "def proj(gamma):\n",
    "    with torch.no_grad():\n",
    "        if gamma.data < 0: gamma.zero_()\n",
    "\n",
    "for i in tqdm(range(n_epochs)):\n",
    "    for x, target in (test_loader):\n",
    "        x = first_batch_x # REMOVE AGAIN\n",
    "        batch_size = len(x)\n",
    "        x = x.reshape((batch_size, 1, 28, 28)).data\n",
    "\n",
    "        optimizer.zero_grad()\n",
    "\n",
    "        # calculate entropy loss\n",
    "        expl, output, classification = get_expl(model, x, method)\n",
    "\n",
    "        # construct 'probability distribution'\n",
    "        if loss_func=='entropy':\n",
    "            print(expl.view(-1)[:10])\n",
    "            dist = expl.abs()\n",
    "            dist /= dist.sum((1,2), keepdim=True)\n",
    "            ent = torch.special.entr(dist)\n",
    "            print(ent)\n",
    "            loss = ent.sum()\n",
    "            \n",
    "        elif loss_func=='shap prediction_only':\n",
    "            shap_predicted_class = first_batch_shap[np.arange(batch_size), classification][:, 0]\n",
    "            shap_predicted_class = torch.Tensor(shap_predicted_class)\n",
    "            loss = ((shap_predicted_class - expl)**2).sum()\n",
    "            \n",
    "        # update gammas\n",
    "        loss.backward()\n",
    "        optimizer.step()\n",
    "        # project into valid range\n",
    "        proj(gamma_early)\n",
    "        proj(gamma_late)\n",
    "        \n",
    "        a, b = float(gamma_early.detach()), float(gamma_late.detach())\n",
    "        gammas.append([a, b])\n",
    "        losses.append(loss.data)\n",
    "        \n",
    "        # print('loss: ', float(loss.data))\n",
    "        # print('early:', a, float(model.layers[1].gamma.data), float(model.layers[1].gamma.grad))\n",
    "        # print('late: ', b, float(model.layers[4].gamma.data), float(model.layers[4].gamma.grad))\n",
    "        \n",
    "        if 'shap' in loss_func: # REMOVE AGAIN\n",
    "            break # shap vals only available for first batch for now"
   ]
  },
  {
   "cell_type": "markdown",
   "id": "f5c34865-3215-464f-9b32-13807004f0b9",
   "metadata": {
    "tags": []
   },
   "source": [
    "#### minimize MSE to shapley values (first batch only)"
   ]
  },
  {
   "cell_type": "code",
   "execution_count": 189,
   "id": "1f2f1f94-f8be-443e-b7e0-ca70fff059df",
   "metadata": {},
   "outputs": [
    {
     "data": {
      "text/plain": [
       "[<matplotlib.lines.Line2D at 0x14cad7292b50>]"
      ]
     },
     "execution_count": 189,
     "metadata": {},
     "output_type": "execute_result"
    },
    {
     "data": {
      "image/png": "[encoded data removed]",
      "text/plain": [
       "<Figure size 640x480 with 2 Axes>"
      ]
     },
     "metadata": {},
     "output_type": "display_data"
    }
   ],
   "source": [
    "tag = 'results__SGD_shap__batch1__MSE_v1'\n",
    "# save_data('d3', tag, (gammas, losses))\n",
    "\n",
    "gs, ls = load_data('d3', tag)\n",
    "\n",
    "fig, ax = plt.subplots()\n",
    "ax.plot(gs)\n",
    "ax.twinx().plot(ls, c='r')"
   ]
  },
  {
   "cell_type": "code",
   "execution_count": 159,
   "id": "a2ac34a6-5c9b-45bb-bac2-807d7d4564c9",
   "metadata": {},
   "outputs": [
    {
     "data": {
      "text/plain": [
       "(0.2876599133014679, 0.05137185752391815)"
      ]
     },
     "execution_count": 159,
     "metadata": {},
     "output_type": "execute_result"
    }
   ],
   "source": [
    "a, b = float(gamma_early.detach().numpy()), float(gamma_late.detach().numpy())\n",
    "a, b"
   ]
  },
  {
   "cell_type": "markdown",
   "id": "5c381fe3-93ae-43a1-abda-c343aa4f338e",
   "metadata": {
    "tags": []
   },
   "source": [
    "#### minimize expl L1 norm"
   ]
  },
  {
   "cell_type": "code",
   "execution_count": 60,
   "id": "61890ad6-87b1-4320-93f9-accf6f9ba508",
   "metadata": {},
   "outputs": [
    {
     "data": {
      "text/plain": [
       "[<matplotlib.lines.Line2D at 0x14e4ee2c0>]"
      ]
     },
     "execution_count": 60,
     "metadata": {},
     "output_type": "execute_result"
    },
    {
     "data": {
      "image/png": "[encoded data removed]",
      "text/plain": [
       "<Figure size 640x480 with 2 Axes>"
      ]
     },
     "metadata": {},
     "output_type": "display_data"
    }
   ],
   "source": [
    "fig, ax = plt.subplots()\n",
    "ax.plot(gammas)\n",
    "ax.twinx().plot(losses, c='r')"
   ]
  },
  {
   "cell_type": "code",
   "execution_count": 101,
   "id": "7ec45919-0771-49b0-add9-9af515c2478c",
   "metadata": {},
   "outputs": [
    {
     "data": {
      "image/png": "[encoded data removed]",
      "text/plain": [
       "<Figure size 200x200 with 1 Axes>"
      ]
     },
     "metadata": {},
     "output_type": "display_data"
    },
    {
     "data": {
      "image/png": "[encoded data removed]",
      "text/plain": [
       "<Figure size 200x200 with 1 Axes>"
      ]
     },
     "metadata": {},
     "output_type": "display_data"
    },
    {
     "data": {
      "image/png": "[encoded data removed]",
      "text/plain": [
       "<Figure size 200x200 with 1 Axes>"
      ]
     },
     "metadata": {},
     "output_type": "display_data"
    },
    {
     "data": {
      "image/png": "[encoded data removed]",
      "text/plain": [
       "<Figure size 200x200 with 1 Axes>"
      ]
     },
     "metadata": {},
     "output_type": "display_data"
    },
    {
     "data": {
      "image/png": "[encoded data removed]",
      "text/plain": [
       "<Figure size 200x200 with 1 Axes>"
      ]
     },
     "metadata": {},
     "output_type": "display_data"
    }
   ],
   "source": [
    "for ex in expl[:5]:\n",
    "    heatmap(ex.detach())\n",
    "    plt.show()"
   ]
  },
  {
   "cell_type": "markdown",
   "id": "46b25f87-b030-4e6c-9c0b-6f5603643fc6",
   "metadata": {
    "tags": []
   },
   "source": [
    "## Precompute Shap values"
   ]
  },
  {
   "cell_type": "code",
   "execution_count": 11,
   "id": "3e648fa6-6ea2-4892-84b3-e36ee7ab303e",
   "metadata": {},
   "outputs": [],
   "source": [
    "import os, sys\n",
    "\n",
    "class HiddenPrints:\n",
    "    def __enter__(self):\n",
    "        self._original_stdout = sys.stdout\n",
    "        self._original_stderr = sys.stderr\n",
    "        sys.stdout = open(os.devnull, 'w')\n",
    "        sys.stderr = open(os.devnull, 'w')\n",
    "\n",
    "    def __exit__(self, exc_type, exc_val, exc_tb):\n",
    "        sys.stdout.close()\n",
    "        sys.stderr.close()\n",
    "        sys.stdout = self._original_stdout\n",
    "        sys.stderr = self._original_stderr"
   ]
  },
  {
   "cell_type": "code",
   "execution_count": 24,
   "id": "6ca62fab-f734-4112-896b-ac52f272c2d1",
   "metadata": {},
   "outputs": [],
   "source": [
    "del tqdm\n",
    "from tqdm import tqdm\n",
    "_, test_loader = data_loaders(batch_size=10)"
   ]
  },
  {
   "cell_type": "code",
   "execution_count": 25,
   "id": "c3e51089-6fe0-4217-af3a-156a67b2156d",
   "metadata": {},
   "outputs": [],
   "source": [
    "e = shap.DeepExplainer(model_d3, background)"
   ]
  },
  {
   "cell_type": "code",
   "execution_count": 82,
   "id": "e54ca0a3-5c0b-4bb9-be19-bac33b0dd229",
   "metadata": {},
   "outputs": [
    {
     "name": "stderr",
     "output_type": "stream",
     "text": [
      "100%|█████████████████████████████████████████| 100/100 [03:05<00:00,  1.86s/it]\n"
     ]
    }
   ],
   "source": [
    "shap_per_batch = []\n",
    "# X = x\n",
    "for x in tqdm(X):\n",
    "    x = x.reshape((-1,1,28,28)).data\n",
    "    with HiddenPrints():\n",
    "        vals = e.shap_values(x)                           # dimensions: [num_classes, [datapoints, channels, x, y]]\n",
    "        vals = np.stack(vals).transpose((1, 0, 2, 3, 4))  # dimensions: [datapoints, num_classes, channels, x, y]\n",
    "        shap_per_batch.append(vals)"
   ]
  },
  {
   "cell_type": "code",
   "execution_count": 84,
   "id": "d985b600-c778-41b9-8e60-974723b3d28d",
   "metadata": {},
   "outputs": [
    {
     "data": {
      "text/plain": [
       "(100, 10, 1, 28, 28)"
      ]
     },
     "execution_count": 84,
     "metadata": {},
     "output_type": "execute_result"
    }
   ],
   "source": [
    "np.stack(shap_per_batch).reshape((100, 10, 1, 28, 28)).shape"
   ]
  },
  {
   "cell_type": "code",
   "execution_count": 85,
   "id": "9a0ff5d7-ca36-4613-923d-056e3f8b299b",
   "metadata": {},
   "outputs": [
    {
     "data": {
      "text/plain": [
       "(100, 10, 1, 28, 28)"
      ]
     },
     "execution_count": 85,
     "metadata": {},
     "output_type": "execute_result"
    }
   ],
   "source": [
    "first_batch_shap = np.stack(shap_per_batch).reshape((100, 10, 1, 28, 28))\n",
    "first_batch_shap.shape"
   ]
  },
  {
   "cell_type": "code",
   "execution_count": 83,
   "id": "4e17390c-96b2-430a-9240-6b606f7f1987",
   "metadata": {},
   "outputs": [],
   "source": [
    "# first_batch_shap_old = first_batch_shap"
   ]
  },
  {
   "cell_type": "code",
   "execution_count": null,
   "id": "3cbbc5eb-d5c3-4828-b0ba-7cc4165ea13d",
   "metadata": {},
   "outputs": [],
   "source": [
    "shap_numpy = [np.swapaxes(np.swapaxes(s, 1, -1), 1, 2) for s in shap_values]\n",
    "test_numpy = np.swapaxes(np.swapaxes(test_images.detach().numpy(), 1, -1), 1, 2)\n",
    "\n",
    "# plot the feature attributions\n",
    "shap.image_plot(shap_numpy, -test_numpy)"
   ]
  },
  {
   "cell_type": "markdown",
   "id": "4404e46c-291b-4b1d-9e6a-1ca992e48a09",
   "metadata": {},
   "source": [
    "## LRP computation (my implementation)"
   ]
  },
  {
   "cell_type": "code",
   "execution_count": 14,
   "id": "da820168-c81a-4e3f-a72f-24a5ae7a3182",
   "metadata": {},
   "outputs": [],
   "source": [
    "relevancies_per_mode = {}"
   ]
  },
  {
   "cell_type": "code",
   "execution_count": 15,
   "id": "3ab9ae40-67a4-47da-a105-c63ca0a89876",
   "metadata": {},
   "outputs": [],
   "source": [
    "modes = {\n",
    "    0: \"LRP-0.\", \n",
    "    1: \"Gamma. l<4 gamma=0.125\",\n",
    "    2: \"Gamma. l<4 gamma=0.25\",\n",
    "    3: \"Gamma. l<4 gamma=0.5\",\n",
    "    \n",
    "    92: \"Gamma. l<1000 gamma=0.25\",\n",
    "    95: \"Gamma. l<1000 gamma=2.\",\n",
    "    99: \"Gamma. l<1000 gamma=inf\",\n",
    "   \n",
    "    # 99: \"info.\"\n",
    "}"
   ]
  },
  {
   "cell_type": "code",
   "execution_count": 16,
   "id": "5c1d15bc-a74c-4f20-b689-4bbe84e59801",
   "metadata": {},
   "outputs": [],
   "source": [
    "def rel(index):\n",
    "    if type(index) in [int, float]:\n",
    "        index = modes[index]\n",
    "    assert type(index) is str\n",
    "    return copy.deepcopy(relevancies_per_mode[index])"
   ]
  },
  {
   "cell_type": "code",
   "execution_count": 17,
   "id": "16ec1a77-be06-4909-b489-d08285227afe",
   "metadata": {},
   "outputs": [],
   "source": [
    "A, layers = layerwise_forward_pass(model_d3, data)\n",
    "L = len(layers)\n",
    "\n",
    "A_shapes = [a.shape[1:] for a in A]"
   ]
  },
  {
   "cell_type": "code",
   "execution_count": 18,
   "id": "9c4512df-8da0-4ae7-b67b-c6097df127cc",
   "metadata": {},
   "outputs": [
    {
     "data": {
      "application/vnd.jupyter.widget-view+json": {
       "model_id": "f8b03ee0036d472aa5ffe476909ce574",
       "version_major": 2,
       "version_minor": 0
      },
      "text/plain": [
       "  0%|          | 0/7 [00:00<?, ?it/s]"
      ]
     },
     "metadata": {},
     "output_type": "display_data"
    }
   ],
   "source": [
    "for mode in tqdm(modes.values()):\n",
    "    if mode in relevancies_per_mode: continue\n",
    "    rels = compute_relevancies(mode=mode, layers=layers, A=A, output_rels='correct class', target=target)\n",
    "    if mode!=\"info\": relevancies_per_mode[mode] = rels"
   ]
  },
  {
   "cell_type": "code",
   "execution_count": 21,
   "id": "a35df1f7-4d3f-4318-a3b8-6e1bfccbdb06",
   "metadata": {},
   "outputs": [
    {
     "name": "stdout",
     "output_type": "stream",
     "text": [
      "(1, 3, 28, 28, 1)\n"
     ]
    }
   ],
   "source": [
    "lrp_numpy = rel(92)[0][:3].numpy()\n",
    "lrp_numpy = [np.swapaxes(np.swapaxes(s, 1, -1), 1, 2) for s in lrp_numpy[None]]\n",
    "\n",
    "print(np.array(lrp_numpy).shape)"
   ]
  },
  {
   "cell_type": "code",
   "execution_count": 22,
   "id": "b1c4ed29-6a7b-4139-9546-575f68edd217",
   "metadata": {},
   "outputs": [
    {
     "data": {
      "text/plain": [
       "(3, 28, 28, 1)"
      ]
     },
     "execution_count": 22,
     "metadata": {},
     "output_type": "execute_result"
    }
   ],
   "source": [
    "lrp_numpy[0].shape"
   ]
  },
  {
   "cell_type": "code",
   "execution_count": 27,
   "id": "4ad12e31-4479-4449-afef-ac2cccb60aa3",
   "metadata": {},
   "outputs": [
    {
     "ename": "NameError",
     "evalue": "name 'shap_numpy' is not defined",
     "output_type": "error",
     "traceback": [
      "\u001b[0;31m---------------------------------------------------------------------------\u001b[0m",
      "\u001b[0;31mNameError\u001b[0m                                 Traceback (most recent call last)",
      "Cell \u001b[0;32mIn [27], line 1\u001b[0m\n\u001b[0;32m----> 1\u001b[0m np\u001b[38;5;241m.\u001b[39marray(\u001b[43mshap_numpy\u001b[49m)\u001b[38;5;241m.\u001b[39mshape, np\u001b[38;5;241m.\u001b[39marray(lrp_numpy)\u001b[38;5;241m.\u001b[39mshape, test_numpy\u001b[38;5;241m.\u001b[39mshape\n",
      "\u001b[0;31mNameError\u001b[0m: name 'shap_numpy' is not defined"
     ]
    }
   ],
   "source": [
    "np.array(shap_numpy).shape, np.array(lrp_numpy).shape, test_numpy.shape"
   ]
  },
  {
   "cell_type": "code",
   "execution_count": 30,
   "id": "e07942b6-1b51-4f79-96d2-938d61784364",
   "metadata": {},
   "outputs": [
    {
     "data": {
      "image/png": "[encoded data removed]",
      "text/plain": [
       "<Figure size 600x1000 with 7 Axes>"
      ]
     },
     "metadata": {},
     "output_type": "display_data"
    }
   ],
   "source": [
    "# plot the feature attributions\n",
    "shap.image_plot(lrp_numpy, -test_numpy)"
   ]
  }
 ],
 "metadata": {
  "kernelspec": {
   "display_name": "Python 3 (ipykernel)",
   "language": "python",
   "name": "python3"
  },
  "language_info": {
   "codemirror_mode": {
    "name": "ipython",
    "version": 3
   },
   "file_extension": ".py",
   "mimetype": "text/x-python",
   "name": "python",
   "nbconvert_exporter": "python",
   "pygments_lexer": "ipython3",
   "version": "3.8.10"
  }
 },
 "nbformat": 4,
 "nbformat_minor": 5
}
