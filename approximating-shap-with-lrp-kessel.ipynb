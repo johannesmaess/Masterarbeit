{
 "cells": [
  {
   "cell_type": "code",
   "execution_count": 1,
   "id": "97626eca-2811-4aae-b2ab-92c50361814a",
   "metadata": {},
   "outputs": [
    {
     "name": "stdout",
     "output_type": "stream",
     "text": [
      "no display found. Using non-interactive Agg backend\n"
     ]
    }
   ],
   "source": [
    "import shap\n",
    "import numpy as np\n",
    "import torch\n",
    "import torch.nn.functional as F\n",
    "import matplotlib.pyplot as plt\n",
    "\n",
    "from tqdm.notebook import tqdm\n",
    "import copy\n",
    "\n",
    "from util.util_cnn import CNNModel, data_loaders, first_mnist_batch, test, \\\n",
    "                params_to_filename, params_from_filename, load_mnist_v4_models\n",
    "\n",
    "from util.naming import *\n",
    "\n",
    "from util.util_lrp import layerwise_forward_pass, compute_relevancies, LRP_global_mat, calc_mats_batch_functional, forward_and_explain\n",
    "\n",
    "from util.util_tutorial import heatmap\n",
    "\n",
    "# pan kessel\n",
    "from explanations_can_be_manipulated.src.nn.enums import ExplainingMethod, LRPRule\n",
    "from explanations_can_be_manipulated.src.nn.networks import ExplainableNet\n",
    "from explanations_can_be_manipulated.src.nn.utils import get_expl, plot_overview, clamp, load_image, make_dir\n",
    "\n",
    "device = 'cpu'\n",
    "method = ExplainingMethod.lrp\n",
    "\n",
    "%matplotlib inline\n",
    "%load_ext autoreload\n",
    "%autoreload 2"
   ]
  },
  {
   "cell_type": "code",
   "execution_count": 2,
   "id": "9afe009d-5f8d-4880-9a51-2deac3069114",
   "metadata": {},
   "outputs": [],
   "source": [
    "# load data and pretrained models\n",
    "data, target = first_mnist_batch(batch_size=200)\n",
    "\n",
    "background = data[100:200].reshape((-1, 1, 28, 28))\n",
    "background_target = target[100:200]\n",
    "\n",
    "data = data[:100]\n",
    "target = target[:100]\n",
    "\n",
    "test_images = data[:3].reshape((-1, 1, 28, 28))\n",
    "\n",
    "model_dict = load_mnist_v4_models()\n",
    "model_d3 = model_dict[d3_tag]"
   ]
  },
  {
   "cell_type": "code",
   "execution_count": 3,
   "id": "433e1a8b-492c-4299-b9f3-193564bdb615",
   "metadata": {},
   "outputs": [
    {
     "data": {
      "text/plain": [
       "torch.Size([100, 784])"
      ]
     },
     "execution_count": 3,
     "metadata": {},
     "output_type": "execute_result"
    }
   ],
   "source": [
    "data.shape"
   ]
  },
  {
   "cell_type": "markdown",
   "id": "218b5552-b9b0-43fb-8c07-3df30b914efe",
   "metadata": {},
   "source": [
    "## Import the Explainable model of Pan"
   ]
  },
  {
   "cell_type": "code",
   "execution_count": 4,
   "id": "db561856-6851-47b9-ab3f-4fd40bd53eaa",
   "metadata": {},
   "outputs": [],
   "source": [
    "model = ExplainableNet(model_d3).eval().to(device)"
   ]
  },
  {
   "cell_type": "code",
   "execution_count": 5,
   "id": "cfda0efc-051d-4602-ad61-f599ce2243b8",
   "metadata": {},
   "outputs": [],
   "source": [
    "gamma = 2\n",
    "model.change_lrp_rules(gamma=gamma, lrp_rule_nl=LRPRule.gamma)"
   ]
  },
  {
   "cell_type": "code",
   "execution_count": 9,
   "id": "dd12a211-f878-4dcd-9225-96fc65f93cd3",
   "metadata": {},
   "outputs": [
    {
     "name": "stdout",
     "output_type": "stream",
     "text": [
      "0 0.0 LRPRule.z_b\n",
      "1 0.0 LRPRule.alpha_beta\n",
      "2 0.0 LRPRule.alpha_beta\n",
      "3 MaxPool\n",
      "4 0.0 LRPRule.alpha_beta\n",
      "5 0.0 LRPRule.alpha_beta\n",
      "6 0.0 LRPRule.alpha_beta\n",
      "7 MaxPool\n",
      "8 Flatten\n",
      "9 0.0 LRPRule.alpha_beta\n"
     ]
    }
   ],
   "source": [
    "for i, l in enumerate(model.layers):\n",
    "    try: print(i, l.gamma, l.lrp_rule)\n",
    "    except: print(i, str(l).split('(')[0])"
   ]
  },
  {
   "cell_type": "code",
   "execution_count": 48,
   "id": "041f6c09-1c84-489b-abe0-75712b8d48c1",
   "metadata": {},
   "outputs": [],
   "source": [
    "x = data[:1].reshape((-1,1,28,28))\n",
    "expl, output, classification = get_expl(model, test_images, method)"
   ]
  },
  {
   "cell_type": "code",
   "execution_count": 49,
   "id": "c4d08605-dc0f-4ff6-9d5e-1292ca2a78dd",
   "metadata": {},
   "outputs": [
    {
     "data": {
      "image/png": "[encoded data removed]",
      "text/plain": [
       "<Figure size 200x200 with 2 Axes>"
      ]
     },
     "metadata": {},
     "output_type": "display_data"
    }
   ],
   "source": [
    "heatmap(expl[0].detach().reshape((28,28)), 2, 2, colorbar=True)"
   ]
  },
  {
   "cell_type": "markdown",
   "id": "c58c8115-fa19-4173-a6e8-d2a9fc713892",
   "metadata": {
    "jp-MarkdownHeadingCollapsed": true,
    "tags": []
   },
   "source": [
    "### Check equivalence to my implementation"
   ]
  },
  {
   "cell_type": "code",
   "execution_count": 50,
   "id": "183b87a5-e68d-44f9-8afd-0f8dd7331f62",
   "metadata": {},
   "outputs": [
    {
     "data": {
      "image/png": "[encoded data removed]",
      "text/plain": [
       "<Figure size 200x200 with 2 Axes>"
      ]
     },
     "metadata": {},
     "output_type": "display_data"
    }
   ],
   "source": [
    "heatmap(rel(95)[0][0].reshape((28,28)), 2, 2, colorbar=True)"
   ]
  },
  {
   "cell_type": "code",
   "execution_count": 51,
   "id": "d0584727-d05f-470a-9a9c-04c1cf9f02a2",
   "metadata": {},
   "outputs": [
    {
     "data": {
      "text/plain": [
       "(torch.Size([28, 28]), torch.Size([28, 28]))"
      ]
     },
     "execution_count": 51,
     "metadata": {},
     "output_type": "execute_result"
    }
   ],
   "source": [
    "a = rel(95)[0][0, 0]\n",
    "b = expl[0]\n",
    "\n",
    "a.shape, b.shape"
   ]
  },
  {
   "cell_type": "code",
   "execution_count": 52,
   "id": "bdbf5243-a8f7-4dcd-9143-107ab6eea0bf",
   "metadata": {},
   "outputs": [
    {
     "data": {
      "image/png": "[encoded data removed]",
      "text/plain": [
       "<Figure size 200x200 with 2 Axes>"
      ]
     },
     "metadata": {},
     "output_type": "display_data"
    }
   ],
   "source": [
    "c = a\n",
    "c[b>0] = b[b>0]\n",
    "heatmap(c.detach(), colorbar=1)"
   ]
  },
  {
   "cell_type": "code",
   "execution_count": 53,
   "id": "b65cf87d-83ea-4789-9c96-583dbbbf87bb",
   "metadata": {},
   "outputs": [
    {
     "data": {
      "image/png": "[encoded data removed]",
      "text/plain": [
       "<Figure size 200x200 with 2 Axes>"
      ]
     },
     "metadata": {},
     "output_type": "display_data"
    }
   ],
   "source": [
    "heatmap((a-b).detach(), colorbar=1)"
   ]
  },
  {
   "cell_type": "code",
   "execution_count": 54,
   "id": "a52206fd-4797-4de6-9f54-87a3b94d2508",
   "metadata": {},
   "outputs": [
    {
     "data": {
      "text/plain": [
       "tensor(1.9183e-06)"
      ]
     },
     "execution_count": 54,
     "metadata": {},
     "output_type": "execute_result"
    }
   ],
   "source": [
    "np.abs((a-b).detach()).max()"
   ]
  },
  {
   "cell_type": "markdown",
   "id": "a06e56ba-7c4b-4605-90e3-7eb1c2ac6803",
   "metadata": {},
   "source": [
    "## SGD on Gamma"
   ]
  },
  {
   "cell_type": "code",
   "execution_count": 31,
   "id": "705dca43-753d-4366-bd40-3cc9c1e684a3",
   "metadata": {},
   "outputs": [],
   "source": [
    "del ExplainableNet\n",
    "from explanations_can_be_manipulated.src.nn.networks import ExplainableNet"
   ]
  },
  {
   "cell_type": "code",
   "execution_count": 5,
   "id": "2c446e73-0103-4d25-8e97-ffbeaf86e4c7",
   "metadata": {},
   "outputs": [
    {
     "name": "stdout",
     "output_type": "stream",
     "text": [
      "0 Convolutional\n",
      "1 Convolutional\n",
      "2 Convolutional\n",
      "3 MaxPool\n",
      "4 Convolutional\n",
      "5 Convolutional\n",
      "6 Convolutional\n",
      "7 MaxPool\n",
      "8 Flatten\n",
      "9 Dense\n"
     ]
    }
   ],
   "source": [
    "model = ExplainableNet(model_d3).eval().to(device)\n",
    "\n",
    "for i, l in enumerate(model.layers): print(i, str(l).split('(')[0])"
   ]
  },
  {
   "cell_type": "code",
   "execution_count": 86,
   "id": "c0ad3fb2-074e-4264-b0c8-52abc5ed3165",
   "metadata": {},
   "outputs": [
    {
     "name": "stdout",
     "output_type": "stream",
     "text": [
      "0 tensor([nan], requires_grad=True) LRPRule.z_b\n",
      "1 tensor([nan], requires_grad=True) LRPRule.gamma\n",
      "2 tensor([nan], requires_grad=True) LRPRule.gamma\n",
      "3 MaxPool\n",
      "4 tensor([nan], requires_grad=True) LRPRule.gamma\n",
      "5 tensor([nan], requires_grad=True) LRPRule.gamma\n",
      "6 tensor([nan], requires_grad=True) LRPRule.gamma\n",
      "7 MaxPool\n",
      "8 Flatten\n",
      "9 0.0 LRPRule.alpha_beta\n"
     ]
    }
   ],
   "source": [
    "for i, l in enumerate(model.layers):\n",
    "    try: print(i, l.gamma, l.lrp_rule)\n",
    "    except: print(i, str(l).split('(')[0])"
   ]
  },
  {
   "cell_type": "code",
   "execution_count": 39,
   "id": "d80ac2a1-bcc7-45a9-b8d9-c598271271d1",
   "metadata": {},
   "outputs": [],
   "source": [
    "del tqdm\n",
    "from tqdm import tqdm\n",
    "_, test_loader = data_loaders()"
   ]
  },
  {
   "cell_type": "code",
   "execution_count": 98,
   "id": "aab4aee7-ea1f-4eea-b23d-7c0b0519dbe5",
   "metadata": {},
   "outputs": [
    {
     "name": "stdout",
     "output_type": "stream",
     "text": [
      "0 tensor([0.0500], requires_grad=True) LRPRule.z_b\n",
      "1 tensor([0.0510], requires_grad=True) LRPRule.gamma\n",
      "2 tensor([0.0510], requires_grad=True) LRPRule.gamma\n",
      "3 MaxPool\n",
      "4 tensor([0.0500], requires_grad=True) LRPRule.gamma\n",
      "5 tensor([0.0500], requires_grad=True) LRPRule.gamma\n",
      "6 tensor([0.0500], requires_grad=True) LRPRule.gamma\n",
      "7 MaxPool\n",
      "8 Flatten\n",
      "9 0.0 LRPRule.alpha_beta\n"
     ]
    }
   ],
   "source": [
    "gamma_early = torch.Tensor([0.051]).requires_grad_(True)\n",
    "gamma_late  = torch.Tensor([0.050]).requires_grad_(True)\n",
    "\n",
    "model.change_lrp_rules(gamma=gamma_early, lrp_rule_nl=LRPRule.gamma, start_l=0, end_l=3)\n",
    "model.change_lrp_rules(gamma=gamma_late , lrp_rule_nl=LRPRule.gamma, start_l=4, end_l=8)\n",
    "\n",
    "for i, l in enumerate(model.layers):\n",
    "    try: print(i, l.gamma, l.lrp_rule)\n",
    "    except: print(i, str(l).split('(')[0])\n",
    "    \n",
    "gammas = []\n",
    "losses = []\n",
    "optimizer = torch.optim.Adam([gamma_early, gamma_late], lr=0.0002)"
   ]
  },
  {
   "cell_type": "code",
   "execution_count": 99,
   "id": "7c194021-1e27-42af-b9a9-6259398691b2",
   "metadata": {},
   "outputs": [
    {
     "name": "stderr",
     "output_type": "stream",
     "text": [
      "  0%|          | 0/1 [00:00<?, ?it/s]\n",
      "  0%|         | 0/84 [00:00<?, ?it/s]\u001b[AThe .grad attribute of a Tensor that is not a leaf Tensor is being accessed. Its .grad attribute won't be populated during autograd.backward(). If you indeed want the .grad field to be populated for a non-leaf Tensor, use .retain_grad() on the non-leaf Tensor. If you access the non-leaf Tensor by mistake, make sure you access the leaf Tensor instead. See github.com/pytorch/pytorch/pull/30531 for more informations. (Triggered internally at /Users/runner/work/_temp/anaconda/conda-bld/pytorch_1666646991213/work/build/aten/src/ATen/core/TensorBody.h:485.)\n",
      "The .grad attribute of a Tensor that is not a leaf Tensor is being accessed. Its .grad attribute won't be populated during autograd.backward(). If you indeed want the .grad field to be populated for a non-leaf Tensor, use .retain_grad() on the non-leaf Tensor. If you access the non-leaf Tensor by mistake, make sure you access the leaf Tensor instead. See github.com/pytorch/pytorch/pull/30531 for more informations. (Triggered internally at /Users/runner/work/_temp/anaconda/conda-bld/pytorch_1666646991213/work/build/aten/src/ATen/core/TensorBody.h:485.)\n",
      "  0%|         | 0/84 [00:00<?, ?it/s]\n",
      "100%|██| 1/1 [00:00<00:00,  2.44it/s]"
     ]
    },
    {
     "name": "stdout",
     "output_type": "stream",
     "text": [
      "tensor([3.3218e-08, 2.1714e-08, 9.5738e-09, 2.8640e-08, 4.9906e-08, 1.0218e-07,\n",
      "        1.0411e-07, 3.8581e-08, 3.8643e-07, 4.6096e-07],\n",
      "       grad_fn=<SliceBackward0>)\n",
      "tensor([[[8.9445e-05, 6.0579e-05, 2.8500e-05,  ..., 4.7229e-04,\n",
      "          3.3640e-04, 5.4599e-05],\n",
      "         [1.3719e-04, 8.3737e-05, 2.5318e-05,  ..., 1.2000e-04,\n",
      "          2.0623e-04, 3.1722e-04],\n",
      "         [8.4639e-05, 5.2083e-05, 1.5448e-06,  ..., 9.0024e-04,\n",
      "          7.2769e-04, 8.6365e-05],\n",
      "         ...,\n",
      "         [4.9272e-05, 6.9239e-05, 2.4571e-05,  ..., 1.0905e-04,\n",
      "          8.8627e-05, 4.9491e-05],\n",
      "         [7.9440e-06, 1.2098e-05, 3.9469e-05,  ..., 1.0121e-04,\n",
      "          7.4417e-05, 5.7517e-05],\n",
      "         [5.0961e-06, 2.6417e-05, 6.0644e-05,  ..., 1.3830e-04,\n",
      "          1.4775e-04, 9.4619e-05]],\n",
      "\n",
      "        [[1.2975e-04, 1.7966e-04, 2.1179e-04,  ..., 1.7498e-04,\n",
      "          2.3595e-04, 1.5504e-04],\n",
      "         [2.2203e-04, 3.0550e-04, 3.3618e-04,  ..., 5.9768e-04,\n",
      "          4.4590e-04, 1.3991e-04],\n",
      "         [1.2451e-04, 1.7634e-04, 2.1665e-04,  ..., 1.3397e-03,\n",
      "          7.1225e-04, 4.1375e-04],\n",
      "         ...,\n",
      "         [6.3869e-04, 1.5116e-03, 1.2612e-03,  ..., 3.8042e-05,\n",
      "          1.4820e-04, 1.0205e-04],\n",
      "         [2.7502e-05, 2.2871e-04, 2.3351e-04,  ..., 5.1990e-05,\n",
      "          2.7523e-05, 3.1367e-06],\n",
      "         [2.9846e-05, 9.0543e-05, 1.7254e-04,  ..., 8.4931e-05,\n",
      "          7.2703e-05, 3.8799e-05]],\n",
      "\n",
      "        [[6.0145e-06, 8.7374e-05, 2.1572e-04,  ..., 2.4059e-03,\n",
      "          1.9470e-03, 2.4654e-04],\n",
      "         [3.2966e-05, 1.7082e-04, 3.2744e-04,  ..., 1.8416e-03,\n",
      "          2.2123e-03, 1.6946e-03],\n",
      "         [7.4864e-06, 9.3880e-05, 1.9293e-04,  ..., 8.2432e-03,\n",
      "          5.4755e-03, 1.4054e-03],\n",
      "         ...,\n",
      "         [3.5311e-05, 4.5088e-05, 8.9285e-06,  ..., 2.4758e-04,\n",
      "          6.6827e-04, 4.7261e-04],\n",
      "         [1.8486e-05, 1.8445e-05, 4.0271e-05,  ..., 1.5711e-04,\n",
      "          2.6100e-05, 8.0634e-05],\n",
      "         [1.1834e-05, 3.0893e-05, 4.1955e-05,  ..., 4.0431e-06,\n",
      "          5.5964e-05, 3.8240e-05]],\n",
      "\n",
      "        ...,\n",
      "\n",
      "        [[2.3923e-04, 2.8182e-04, 2.5230e-04,  ..., 7.0839e-04,\n",
      "          8.2393e-04, 3.6334e-04],\n",
      "         [3.9532e-04, 4.6342e-04, 4.1119e-04,  ..., 1.6424e-03,\n",
      "          1.2586e-03, 5.6975e-04],\n",
      "         [2.2869e-04, 2.7117e-04, 2.7849e-04,  ..., 6.8124e-03,\n",
      "          5.7163e-03, 1.3517e-03],\n",
      "         ...,\n",
      "         [5.5042e-05, 4.4784e-05, 1.4705e-05,  ..., 7.1846e-04,\n",
      "          1.2249e-04, 8.3641e-05],\n",
      "         [1.8676e-06, 8.6293e-06, 2.7969e-05,  ..., 2.8836e-04,\n",
      "          3.9878e-05, 3.3935e-05],\n",
      "         [1.1902e-05, 3.1292e-05, 5.2680e-05,  ..., 8.7338e-06,\n",
      "          4.8984e-05, 1.6659e-05]],\n",
      "\n",
      "        [[1.0094e-04, 1.4645e-04, 1.8312e-04,  ..., 5.4110e-04,\n",
      "          3.4873e-04, 3.9626e-05],\n",
      "         [1.7468e-04, 2.5124e-04, 2.8945e-04,  ..., 8.8814e-05,\n",
      "          2.9181e-04, 3.4802e-04],\n",
      "         [9.6988e-05, 1.4446e-04, 1.8469e-04,  ..., 1.4192e-03,\n",
      "          1.1183e-03, 1.6801e-05],\n",
      "         ...,\n",
      "         [1.6636e-04, 2.1077e-04, 4.4710e-04,  ..., 2.5136e-03,\n",
      "          9.7064e-04, 1.9968e-04],\n",
      "         [5.5284e-05, 1.1478e-05, 5.1068e-05,  ..., 1.2794e-03,\n",
      "          6.7413e-04, 1.9405e-04],\n",
      "         [4.4417e-05, 1.0179e-04, 1.1712e-04,  ..., 3.5540e-04,\n",
      "          2.6982e-04, 1.1587e-04]],\n",
      "\n",
      "        [[1.3608e-04, 1.7229e-04, 1.2661e-04,  ..., 1.1279e-03,\n",
      "          6.8876e-04, 1.5976e-04],\n",
      "         [2.1611e-04, 2.7242e-04, 2.5912e-04,  ..., 8.0605e-04,\n",
      "          2.9804e-04, 7.0253e-04],\n",
      "         [1.2936e-04, 1.0179e-04, 3.8347e-05,  ..., 3.2207e-04,\n",
      "          6.9017e-04, 2.2315e-04],\n",
      "         ...,\n",
      "         [2.3388e-05, 4.6535e-06, 7.8748e-05,  ..., 1.8336e-04,\n",
      "          2.0574e-04, 1.8670e-04],\n",
      "         [7.0459e-06, 2.7778e-07, 2.1087e-05,  ..., 6.5605e-05,\n",
      "          8.6206e-06, 2.9416e-05],\n",
      "         [8.7641e-06, 1.4375e-05, 9.6265e-06,  ..., 3.1012e-05,\n",
      "          2.7038e-05, 2.9263e-05]]], grad_fn=<SpecialEntrBackward0>)\n",
      "None\n",
      "None\n"
     ]
    },
    {
     "name": "stderr",
     "output_type": "stream",
     "text": [
      "\n"
     ]
    }
   ],
   "source": [
    "n_epochs = 1\n",
    "\n",
    "for i in tqdm(range(n_epochs)):\n",
    "    for x, target in tqdm(test_loader):\n",
    "        x = x.reshape((-1,1,28,28)).data\n",
    "\n",
    "        optimizer.zero_grad()\n",
    "\n",
    "        # calculate entropy loss\n",
    "        expl, output, classification = get_expl(model, x, method)\n",
    "        # construct 'probability distribution'\n",
    "        print(expl.view(-1)[:10])\n",
    "        dist = expl.abs()\n",
    "        dist /= dist.sum((1,2), keepdim=True)\n",
    "        ent = torch.special.entr(dist)\n",
    "        print(ent)\n",
    "        loss = ent.sum()\n",
    "\n",
    "        # update adversarial example\n",
    "        loss.backward()\n",
    "        print(dist.grad)\n",
    "        print(expl.grad)\n",
    "        break\n",
    "        optimizer.step()\n",
    "        \n",
    "        a, b = float(gamma_early.detach()), float(gamma_late.detach())\n",
    "        \n",
    "        gammas.append([a, b])\n",
    "        losses.append(loss.data)\n",
    "        \n",
    "        print('loss: ', float(loss.data))\n",
    "        print('early:', a, float(model.layers[1].gamma.data), float(model.layers[1].gamma.grad))\n",
    "        print('late: ', b, float(model.layers[4].gamma.data), float(model.layers[4].gamma.grad))"
   ]
  },
  {
   "cell_type": "code",
   "execution_count": 58,
   "id": "a2ac34a6-5c9b-45bb-bac2-807d7d4564c9",
   "metadata": {},
   "outputs": [
    {
     "data": {
      "text/plain": [
       "(1.1624140739440918, 0.9723686575889587)"
      ]
     },
     "execution_count": 58,
     "metadata": {},
     "output_type": "execute_result"
    }
   ],
   "source": [
    "a, b = float(gamma_early.detach().numpy()), float(gamma_late.detach().numpy())\n",
    "a, b"
   ]
  },
  {
   "cell_type": "code",
   "execution_count": 92,
   "id": "0428d0aa-edcd-411f-827b-2721b834f3c2",
   "metadata": {},
   "outputs": [
    {
     "data": {
      "text/plain": [
       "[[nan, nan],\n",
       " [nan, nan],\n",
       " [nan, nan],\n",
       " [nan, nan],\n",
       " [nan, nan],\n",
       " [nan, nan],\n",
       " [nan, nan]]"
      ]
     },
     "execution_count": 92,
     "metadata": {},
     "output_type": "execute_result"
    }
   ],
   "source": [
    "gammas"
   ]
  },
  {
   "cell_type": "code",
   "execution_count": 60,
   "id": "1f2f1f94-f8be-443e-b7e0-ca70fff059df",
   "metadata": {},
   "outputs": [
    {
     "data": {
      "text/plain": [
       "[<matplotlib.lines.Line2D at 0x14e4ee2c0>]"
      ]
     },
     "execution_count": 60,
     "metadata": {},
     "output_type": "execute_result"
    },
    {
     "data": {
      "image/png": "[encoded data removed]",
      "text/plain": [
       "<Figure size 640x480 with 2 Axes>"
      ]
     },
     "metadata": {},
     "output_type": "display_data"
    }
   ],
   "source": [
    "fig, ax = plt.subplots()\n",
    "ax.plot(gammas)\n",
    "ax.twinx().plot(losses, c='r')"
   ]
  },
  {
   "cell_type": "code",
   "execution_count": 101,
   "id": "7ec45919-0771-49b0-add9-9af515c2478c",
   "metadata": {},
   "outputs": [
    {
     "data": {
      "image/png": "[encoded data removed]",
      "text/plain": [
       "<Figure size 200x200 with 1 Axes>"
      ]
     },
     "metadata": {},
     "output_type": "display_data"
    },
    {
     "data": {
      "image/png": "[encoded data removed]",
      "text/plain": [
       "<Figure size 200x200 with 1 Axes>"
      ]
     },
     "metadata": {},
     "output_type": "display_data"
    },
    {
     "data": {
      "image/png": "[encoded data removed]",
      "text/plain": [
       "<Figure size 200x200 with 1 Axes>"
      ]
     },
     "metadata": {},
     "output_type": "display_data"
    },
    {
     "data": {
      "image/png": "[encoded data removed]",
      "text/plain": [
       "<Figure size 200x200 with 1 Axes>"
      ]
     },
     "metadata": {},
     "output_type": "display_data"
    },
    {
     "data": {
      "image/png": "[encoded data removed]",
      "text/plain": [
       "<Figure size 200x200 with 1 Axes>"
      ]
     },
     "metadata": {},
     "output_type": "display_data"
    }
   ],
   "source": [
    "for ex in expl[:5]:\n",
    "    heatmap(ex.detach())\n",
    "    plt.show()"
   ]
  },
  {
   "cell_type": "markdown",
   "id": "46b25f87-b030-4e6c-9c0b-6f5603643fc6",
   "metadata": {
    "tags": []
   },
   "source": [
    "## Shap vs LRP"
   ]
  },
  {
   "cell_type": "code",
   "execution_count": null,
   "id": "c3e51089-6fe0-4217-af3a-156a67b2156d",
   "metadata": {},
   "outputs": [],
   "source": [
    "e = shap.DeepExplainer(model_d3, background)\n",
    "shap_values = e.shap_values(test_images)"
   ]
  },
  {
   "cell_type": "code",
   "execution_count": null,
   "id": "3cbbc5eb-d5c3-4828-b0ba-7cc4165ea13d",
   "metadata": {},
   "outputs": [],
   "source": [
    "shap_numpy = [np.swapaxes(np.swapaxes(s, 1, -1), 1, 2) for s in shap_values]\n",
    "test_numpy = np.swapaxes(np.swapaxes(test_images.detach().numpy(), 1, -1), 1, 2)\n",
    "\n",
    "# plot the feature attributions\n",
    "shap.image_plot(shap_numpy, -test_numpy)"
   ]
  },
  {
   "cell_type": "markdown",
   "id": "4404e46c-291b-4b1d-9e6a-1ca992e48a09",
   "metadata": {},
   "source": [
    "## LRP computation (my implementation)"
   ]
  },
  {
   "cell_type": "code",
   "execution_count": 14,
   "id": "da820168-c81a-4e3f-a72f-24a5ae7a3182",
   "metadata": {},
   "outputs": [],
   "source": [
    "relevancies_per_mode = {}"
   ]
  },
  {
   "cell_type": "code",
   "execution_count": 15,
   "id": "3ab9ae40-67a4-47da-a105-c63ca0a89876",
   "metadata": {},
   "outputs": [],
   "source": [
    "modes = {\n",
    "    0: \"LRP-0.\", \n",
    "    1: \"Gamma. l<4 gamma=0.125\",\n",
    "    2: \"Gamma. l<4 gamma=0.25\",\n",
    "    3: \"Gamma. l<4 gamma=0.5\",\n",
    "    \n",
    "    92: \"Gamma. l<1000 gamma=0.25\",\n",
    "    95: \"Gamma. l<1000 gamma=2.\",\n",
    "    99: \"Gamma. l<1000 gamma=inf\",\n",
    "   \n",
    "    # 99: \"info.\"\n",
    "}"
   ]
  },
  {
   "cell_type": "code",
   "execution_count": 16,
   "id": "5c1d15bc-a74c-4f20-b689-4bbe84e59801",
   "metadata": {},
   "outputs": [],
   "source": [
    "def rel(index):\n",
    "    if type(index) in [int, float]:\n",
    "        index = modes[index]\n",
    "    assert type(index) is str\n",
    "    return copy.deepcopy(relevancies_per_mode[index])"
   ]
  },
  {
   "cell_type": "code",
   "execution_count": 17,
   "id": "16ec1a77-be06-4909-b489-d08285227afe",
   "metadata": {},
   "outputs": [],
   "source": [
    "A, layers = layerwise_forward_pass(model_d3, data)\n",
    "L = len(layers)\n",
    "\n",
    "A_shapes = [a.shape[1:] for a in A]"
   ]
  },
  {
   "cell_type": "code",
   "execution_count": 18,
   "id": "9c4512df-8da0-4ae7-b67b-c6097df127cc",
   "metadata": {},
   "outputs": [
    {
     "data": {
      "application/vnd.jupyter.widget-view+json": {
       "model_id": "f8b03ee0036d472aa5ffe476909ce574",
       "version_major": 2,
       "version_minor": 0
      },
      "text/plain": [
       "  0%|          | 0/7 [00:00<?, ?it/s]"
      ]
     },
     "metadata": {},
     "output_type": "display_data"
    }
   ],
   "source": [
    "for mode in tqdm(modes.values()):\n",
    "    if mode in relevancies_per_mode: continue\n",
    "    rels = compute_relevancies(mode=mode, layers=layers, A=A, output_rels='correct class', target=target)\n",
    "    if mode!=\"info\": relevancies_per_mode[mode] = rels"
   ]
  },
  {
   "cell_type": "code",
   "execution_count": 21,
   "id": "a35df1f7-4d3f-4318-a3b8-6e1bfccbdb06",
   "metadata": {},
   "outputs": [
    {
     "name": "stdout",
     "output_type": "stream",
     "text": [
      "(1, 3, 28, 28, 1)\n"
     ]
    }
   ],
   "source": [
    "lrp_numpy = rel(92)[0][:3].numpy()\n",
    "lrp_numpy = [np.swapaxes(np.swapaxes(s, 1, -1), 1, 2) for s in lrp_numpy[None]]\n",
    "\n",
    "print(np.array(lrp_numpy).shape)"
   ]
  },
  {
   "cell_type": "code",
   "execution_count": 22,
   "id": "b1c4ed29-6a7b-4139-9546-575f68edd217",
   "metadata": {},
   "outputs": [
    {
     "data": {
      "text/plain": [
       "(3, 28, 28, 1)"
      ]
     },
     "execution_count": 22,
     "metadata": {},
     "output_type": "execute_result"
    }
   ],
   "source": [
    "lrp_numpy[0].shape"
   ]
  },
  {
   "cell_type": "code",
   "execution_count": 27,
   "id": "4ad12e31-4479-4449-afef-ac2cccb60aa3",
   "metadata": {},
   "outputs": [
    {
     "ename": "NameError",
     "evalue": "name 'shap_numpy' is not defined",
     "output_type": "error",
     "traceback": [
      "\u001b[0;31m---------------------------------------------------------------------------\u001b[0m",
      "\u001b[0;31mNameError\u001b[0m                                 Traceback (most recent call last)",
      "Cell \u001b[0;32mIn [27], line 1\u001b[0m\n\u001b[0;32m----> 1\u001b[0m np\u001b[38;5;241m.\u001b[39marray(\u001b[43mshap_numpy\u001b[49m)\u001b[38;5;241m.\u001b[39mshape, np\u001b[38;5;241m.\u001b[39marray(lrp_numpy)\u001b[38;5;241m.\u001b[39mshape, test_numpy\u001b[38;5;241m.\u001b[39mshape\n",
      "\u001b[0;31mNameError\u001b[0m: name 'shap_numpy' is not defined"
     ]
    }
   ],
   "source": [
    "np.array(shap_numpy).shape, np.array(lrp_numpy).shape, test_numpy.shape"
   ]
  },
  {
   "cell_type": "code",
   "execution_count": 30,
   "id": "e07942b6-1b51-4f79-96d2-938d61784364",
   "metadata": {},
   "outputs": [
    {
     "data": {
      "image/png": "[encoded data removed]",
      "text/plain": [
       "<Figure size 600x1000 with 7 Axes>"
      ]
     },
     "metadata": {},
     "output_type": "display_data"
    }
   ],
   "source": [
    "# plot the feature attributions\n",
    "shap.image_plot(lrp_numpy, -test_numpy)"
   ]
  }
 ],
 "metadata": {
  "kernelspec": {
   "display_name": "Python 3 (ipykernel)",
   "language": "python",
   "name": "python3"
  },
  "language_info": {
   "codemirror_mode": {
    "name": "ipython",
    "version": 3
   },
   "file_extension": ".py",
   "mimetype": "text/x-python",
   "name": "python",
   "nbconvert_exporter": "python",
   "pygments_lexer": "ipython3",
   "version": "3.10.6"
  }
 },
 "nbformat": 4,
 "nbformat_minor": 5
}
