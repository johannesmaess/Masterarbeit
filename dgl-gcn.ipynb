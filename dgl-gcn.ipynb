{
 "cells": [
  {
   "cell_type": "code",
   "execution_count": 13,
   "id": "772cbd7a-bcf9-4fcc-b205-b34311b85d27",
   "metadata": {},
   "outputs": [],
   "source": [
    "import dgl\n",
    "import dgl.function as fn\n",
    "import torch as torch\n",
    "import torch.nn as nn\n",
    "import torch.nn.functional as F\n",
    "from dgl import DGLGraph\n",
    "import tqdm as tqdm\n"
   ]
  },
  {
   "cell_type": "markdown",
   "id": "83a5e981-c172-46b3-a9b7-a4b41e616590",
   "metadata": {},
   "source": [
    "# Graphs in DGL"
   ]
  },
  {
   "cell_type": "code",
   "execution_count": 93,
   "id": "2b4eb641-231d-4a6a-8198-c26c7b735f88",
   "metadata": {},
   "outputs": [
    {
     "data": {
      "text/plain": [
       "(tensor([0, 0, 0, 0, 0, 1]), tensor([1, 2, 3, 4, 5, 5]))"
      ]
     },
     "execution_count": 93,
     "metadata": {},
     "output_type": "execute_result"
    }
   ],
   "source": [
    "edges = ([0, 0, 0, 0, 0, 1],\n",
    "         [1, 2, 3, 4, 5, 5])\n",
    "num_nodes = 6\n",
    "num_edges = len(edges[0])\n",
    "\n",
    "g = dgl.graph(edges, num_nodes=num_nodes)\n",
    "\n",
    "g.edges()"
   ]
  },
  {
   "cell_type": "code",
   "execution_count": 94,
   "id": "da943e59-7e28-47ec-9015-588881886d80",
   "metadata": {},
   "outputs": [
    {
     "data": {
      "text/plain": [
       "tensor([[-0.7777, -0.0411,  0.0754],\n",
       "        [ 0.3614,  0.4575, -0.2722],\n",
       "        [ 1.7990, -0.3573, -1.6917],\n",
       "        [-1.2815,  0.8051, -1.0646],\n",
       "        [-0.9383,  1.3842, -0.4182],\n",
       "        [-0.9762,  0.0391,  1.1020]])"
      ]
     },
     "execution_count": 94,
     "metadata": {},
     "output_type": "execute_result"
    }
   ],
   "source": [
    "g.ndata['x'] = torch.randn(num_nodes, 3)\n",
    "g.edata['a'] = torch.randn(num_edges, 4)\n",
    "# Assign a 5x4 node feature matrix for each node.  Node and edge features in DGL can be multi-dimensional.\n",
    "g.ndata['y'] = torch.randn(num_nodes, 5, 4)\n",
    "\n",
    "g.ndata['x']"
   ]
  },
  {
   "cell_type": "markdown",
   "id": "8f648aae-df35-4054-9596-b50963ee292f",
   "metadata": {},
   "source": [
    "## Extracting subgraphs"
   ]
  },
  {
   "cell_type": "code",
   "execution_count": 95,
   "id": "df888a79-699b-4696-b191-d2c0ae7e4191",
   "metadata": {},
   "outputs": [
    {
     "data": {
      "text/plain": [
       "(3, (tensor([0, 0]), tensor([1, 2])))"
      ]
     },
     "execution_count": 95,
     "metadata": {},
     "output_type": "execute_result"
    }
   ],
   "source": [
    "sg1 = g.subgraph([0,1,2])\n",
    "sg1.num_nodes(), sg1.edges()"
   ]
  },
  {
   "cell_type": "code",
   "execution_count": 96,
   "id": "181b4a4f-336f-4776-9c47-576039cf4242",
   "metadata": {},
   "outputs": [
    {
     "data": {
      "text/plain": [
       "(4, (tensor([0, 0, 0]), tensor([1, 2, 3])))"
      ]
     },
     "execution_count": 96,
     "metadata": {},
     "output_type": "execute_result"
    }
   ],
   "source": [
    "sg2 = g.edge_subgraph([0,1,4])\n",
    "sg2.num_nodes(), sg2.edges()"
   ]
  },
  {
   "cell_type": "markdown",
   "id": "aa2ba7fa-747a-469c-881a-bbbd8b0cf1bc",
   "metadata": {},
   "source": [
    "## Load a big graph and features for it"
   ]
  },
  {
   "cell_type": "code",
   "execution_count": 97,
   "id": "f190e984-0d1f-424e-bd0c-e5e11a66928b",
   "metadata": {},
   "outputs": [
    {
     "name": "stdout",
     "output_type": "stream",
     "text": [
      "  NumNodes: 2708\n",
      "  NumEdges: 10556\n",
      "  NumFeats: 1433\n",
      "  NumClasses: 7\n",
      "  NumTrainingSamples: 140\n",
      "  NumValidationSamples: 500\n",
      "  NumTestSamples: 1000\n",
      "Done loading data from cached files.\n"
     ]
    }
   ],
   "source": [
    "from dgl.data import CoraGraphDataset\n",
    "def load_cora_data():\n",
    "    dataset = CoraGraphDataset()\n",
    "    g = dataset[0]\n",
    "    features = g.ndata['feat']\n",
    "    labels = g.ndata['label']\n",
    "    train_mask = g.ndata['train_mask']\n",
    "    test_mask = g.ndata['test_mask']\n",
    "    return g, features, labels, train_mask, test_mask\n",
    "g_cora, features, labels, train_mask, test_mask = load_cora_data()"
   ]
  },
  {
   "cell_type": "code",
   "execution_count": 98,
   "id": "3d30468c-e49b-4486-b6dd-de2a4dcec56f",
   "metadata": {},
   "outputs": [
    {
     "data": {
      "text/plain": [
       "(Graph(num_nodes=2708, num_edges=10556,\n",
       "       ndata_schemes={'feat': Scheme(shape=(1433,), dtype=torch.float32), 'label': Scheme(shape=(), dtype=torch.int64), 'val_mask': Scheme(shape=(), dtype=torch.bool), 'test_mask': Scheme(shape=(), dtype=torch.bool), 'train_mask': Scheme(shape=(), dtype=torch.bool)}\n",
       "       edata_schemes={'__orig__': Scheme(shape=(), dtype=torch.int64)}),\n",
       " torch.Size([2708, 1433]))"
      ]
     },
     "execution_count": 98,
     "metadata": {},
     "output_type": "execute_result"
    }
   ],
   "source": [
    "g_cora, features.shape"
   ]
  },
  {
   "cell_type": "markdown",
   "id": "9cbac3ce-a372-4a16-ba07-c3f979c8ab06",
   "metadata": {},
   "source": [
    "# Operations on Graph"
   ]
  },
  {
   "cell_type": "code",
   "execution_count": 99,
   "id": "b7016a04-daf3-4ebc-b923-147df2648431",
   "metadata": {},
   "outputs": [],
   "source": [
    "gcn_msg = fn.copy_u(u='h', out='m')\n",
    "gcn_reduce = fn.sum(msg='m', out='out')"
   ]
  },
  {
   "cell_type": "code",
   "execution_count": 100,
   "id": "9c382b49-d834-40de-8598-77eb37fd2853",
   "metadata": {},
   "outputs": [
    {
     "data": {
      "text/plain": [
       "(tensor([0, 0, 0, 0, 0, 1]), tensor([1, 2, 3, 4, 5, 5]))"
      ]
     },
     "execution_count": 100,
     "metadata": {},
     "output_type": "execute_result"
    }
   ],
   "source": [
    "g.edges()"
   ]
  },
  {
   "cell_type": "code",
   "execution_count": 107,
   "id": "8fce3360-d4f1-429b-a55c-782e0f8489f0",
   "metadata": {},
   "outputs": [
    {
     "data": {
      "text/plain": [
       "torch.Size([6])"
      ]
     },
     "execution_count": 107,
     "metadata": {},
     "output_type": "execute_result"
    }
   ],
   "source": [
    "g.ndata['h'] = torch.Tensor([1, 0, 0, 0, 0, 1])\n",
    "g.ndata['h'].shape"
   ]
  },
  {
   "cell_type": "code",
   "execution_count": 109,
   "id": "6c206e93-325f-4cfb-8379-ba22032cacea",
   "metadata": {},
   "outputs": [
    {
     "data": {
      "text/plain": [
       "tensor(2.)"
      ]
     },
     "execution_count": 109,
     "metadata": {},
     "output_type": "execute_result"
    }
   ],
   "source": [
    "g.ndata['h'].sum()"
   ]
  },
  {
   "cell_type": "code",
   "execution_count": 110,
   "id": "bc4dc67d-6db7-4e81-b16d-9ccc658d37b5",
   "metadata": {},
   "outputs": [
    {
     "data": {
      "text/plain": [
       "tensor(5.)"
      ]
     },
     "execution_count": 110,
     "metadata": {},
     "output_type": "execute_result"
    }
   ],
   "source": [
    "g.update_all(gcn_msg, gcn_reduce)\n",
    "g.ndata['out'].sum()"
   ]
  },
  {
   "cell_type": "code",
   "execution_count": 114,
   "id": "000867bb-e9d3-4c5b-8039-6d604f18caa4",
   "metadata": {},
   "outputs": [
    {
     "name": "stdout",
     "output_type": "stream",
     "text": [
      "tensor([1., 0., 0., 0., 0., 1.]) \n",
      " tensor([0., 1., 1., 1., 1., 1.])\n"
     ]
    }
   ],
   "source": [
    "print(g.ndata['h'], '\\n', g.ndata['out'])"
   ]
  },
  {
   "cell_type": "markdown",
   "id": "c854ed89-fcdd-4b1b-b701-21463c2a82e4",
   "metadata": {},
   "source": [
    "### On big graph"
   ]
  },
  {
   "cell_type": "code",
   "execution_count": 74,
   "id": "df88e080-8df0-4cf2-811a-67c3cd0bef20",
   "metadata": {},
   "outputs": [
    {
     "data": {
      "text/plain": [
       "torch.Size([2708, 1433])"
      ]
     },
     "execution_count": 74,
     "metadata": {},
     "output_type": "execute_result"
    }
   ],
   "source": [
    "g_cora.ndata['h'] = features\n",
    "g_cora.ndata['h'].shape"
   ]
  },
  {
   "cell_type": "code",
   "execution_count": 75,
   "id": "8ce01a2d-cd71-4f09-9fd9-6f19812e3b5f",
   "metadata": {},
   "outputs": [
    {
     "data": {
      "text/plain": [
       "tensor(2708.0002)"
      ]
     },
     "execution_count": 75,
     "metadata": {},
     "output_type": "execute_result"
    }
   ],
   "source": [
    "g_cora.ndata['h'].sum()"
   ]
  },
  {
   "cell_type": "code",
   "execution_count": 76,
   "id": "0b1e4e28-c2cb-4687-8549-547b48838919",
   "metadata": {},
   "outputs": [
    {
     "data": {
      "text/plain": [
       "tensor(10556.)"
      ]
     },
     "execution_count": 76,
     "metadata": {},
     "output_type": "execute_result"
    }
   ],
   "source": [
    "g_cora.update_all(gcn_msg, gcn_reduce)\n",
    "g_cora.ndata['out'].sum()"
   ]
  },
  {
   "cell_type": "markdown",
   "id": "90331bed-c223-49bf-87d2-dab547d48445",
   "metadata": {},
   "source": [
    "# GCN"
   ]
  },
  {
   "cell_type": "code",
   "execution_count": 5,
   "id": "665a3096-ebe9-45b0-91e7-edf010cbead7",
   "metadata": {},
   "outputs": [],
   "source": [
    "\n",
    "gcn_msg = fn.copy_u(u='h', out='m')\n",
    "gcn_reduce = fn.sum(msg='m', out='h')\n",
    "\n",
    "class GCNLayer(nn.Module):\n",
    "    def __init__(self, in_feats, out_feats):\n",
    "        super(GCNLayer, self).__init__()\n",
    "        self.linear = nn.Linear(in_feats, out_feats)\n",
    "\n",
    "    def forward(self, g, feature):\n",
    "        # Creating a local scope so that all the stored ndata and edata\n",
    "        # (such as the `'h'` ndata below) are automatically popped out\n",
    "        # when the scope exits.\n",
    "        with g.local_scope():\n",
    "            g.ndata['h'] = feature\n",
    "            g.update_all(gcn_msg, gcn_reduce)\n",
    "            h = g.ndata['h']\n",
    "            return self.linear(h)"
   ]
  },
  {
   "cell_type": "code",
   "execution_count": null,
   "id": "09775a90-7b87-44df-863c-c6f74a2ee69d",
   "metadata": {},
   "outputs": [],
   "source": []
  },
  {
   "cell_type": "code",
   "execution_count": null,
   "id": "0747eef5-8891-4698-8172-9f6187cba63d",
   "metadata": {},
   "outputs": [],
   "source": []
  }
 ],
 "metadata": {
  "kernelspec": {
   "display_name": "Python 3.9.9 64-bit",
   "language": "python",
   "name": "python3"
  },
  "language_info": {
   "codemirror_mode": {
    "name": "ipython",
    "version": 3
   },
   "file_extension": ".py",
   "mimetype": "text/x-python",
   "name": "python",
   "nbconvert_exporter": "python",
   "pygments_lexer": "ipython3",
   "version": "3.9.9"
  },
  "vscode": {
   "interpreter": {
    "hash": "aee8b7b246df8f9039afb4144a1f6fd8d2ca17a180786b69acc140d282b71a49"
   }
  }
 },
 "nbformat": 4,
 "nbformat_minor": 5
}
