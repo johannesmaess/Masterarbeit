{
 "cells": [
  {
   "cell_type": "markdown",
   "id": "c2fb1063",
   "metadata": {},
   "source": [
    "# Analyze modifications of the gamma rule on the entire MNIST MLP network"
   ]
  },
  {
   "cell_type": "markdown",
   "id": "47a8eead",
   "metadata": {},
   "source": [
    "#### Loading stuff"
   ]
  },
  {
   "cell_type": "code",
   "execution_count": 2,
   "id": "171c4bc8-b08d-4adc-87cb-8664021bd7b5",
   "metadata": {},
   "outputs": [
    {
     "name": "stderr",
     "output_type": "stream",
     "text": [
      "/Users/johannes/Applications/miniconda3/envs/msc2/lib/python3.10/site-packages/tqdm/auto.py:22: TqdmWarning: IProgress not found. Please update jupyter and ipywidgets. See https://ipywidgets.readthedocs.io/en/stable/user_install.html\n",
      "  from .autonotebook import tqdm as notebook_tqdm\n"
     ]
    },
    {
     "name": "stdout",
     "output_type": "stream",
     "text": [
      "torch.Size([1024, 20, 4, 4])\n",
      "torch.Size([1024, 320])\n",
      "torch.Size([1024, 20, 4, 4])\n",
      "torch.Size([1024, 320])\n",
      "torch.Size([1024, 20, 4, 4])\n",
      "torch.Size([1024, 320])\n",
      "torch.Size([1024, 20, 4, 4])\n",
      "torch.Size([1024, 320])\n",
      "torch.Size([1024, 20, 4, 4])\n",
      "torch.Size([1024, 320])\n",
      "torch.Size([1024, 20, 4, 4])\n",
      "torch.Size([1024, 320])\n",
      "torch.Size([1024, 20, 4, 4])\n",
      "torch.Size([1024, 320])\n",
      "torch.Size([1024, 20, 4, 4])\n",
      "torch.Size([1024, 320])\n",
      "torch.Size([1024, 20, 4, 4])\n",
      "torch.Size([1024, 320])\n",
      "torch.Size([784, 20, 4, 4])\n",
      "torch.Size([784, 320])\n",
      "\n",
      "Test set: Average loss: 0.0510, Accuracy: 9833/10000 (98%)\n",
      "\n"
     ]
    }
   ],
   "source": [
    "%load_ext autoreload\n",
    "%autoreload 2\n",
    "\n",
    "device = \"cpu\"\n",
    "MNIST_CNN_PATH = './models/mnist_cnn_v2.torch'\n",
    "data_dir = \"./dataset\"\n",
    "cat16_dir = data_dir + \"/cat16\"\n",
    "\n",
    "import os\n",
    "import torch\n",
    "import copy\n",
    "from tqdm import tqdm\n",
    "from util.util_cnn import get_test_loader, CNN, test\n",
    "\n",
    "from util.util_gamma_rule import global_conv_matrix, forw_surrogate_matrix,  \\\n",
    "                back_matrix, smart_gamma_func, \\\n",
    "                calc_evals, calc_evals_batch, \\\n",
    "                plot_evals_lineplot, \\\n",
    "                conv_matrix_from_pytorch_layer, \\\n",
    "                global_conv_matrix_from_pytorch_layer, \\\n",
    "                calc_gamma_for_sign_flip\n",
    "\n",
    "from util.util_gamma_layers import GammaPerNeuronLayer, GammaWoSignFlipsLayer, Conv2dAsMatrixLayer\n",
    "\n",
    "from util.util_data_summary import *\n",
    "\n",
    "import numpy as np\n",
    "import matplotlib.pyplot as plt\n",
    "# import seaborn as sns\n",
    "# import pandas as pd\n",
    "\n",
    "# vgg experiments\n",
    "import cv2\n",
    "import torchvision\n",
    "from torchvision import transforms, datasets\n",
    "from PIL import Image\n",
    "\n",
    "# lrp-tutorial sub repo\n",
    "from lrp_tutorial import utils as tut_utils\n",
    "\n",
    "model = CNN().to(device)\n",
    "model.load_state_dict(torch.load(MNIST_CNN_PATH))\n",
    "\n",
    "test(model, device, get_test_loader())"
   ]
  },
  {
   "cell_type": "code",
   "execution_count": 3,
   "id": "c4d6ab33",
   "metadata": {},
   "outputs": [],
   "source": [
    "# model.put_info_layers()"
   ]
  },
  {
   "cell_type": "markdown",
   "id": "3b0e5d0c",
   "metadata": {},
   "source": [
    "### Load data"
   ]
  },
  {
   "cell_type": "code",
   "execution_count": 3,
   "id": "5020ec01",
   "metadata": {},
   "outputs": [],
   "source": [
    "test_loader = get_test_loader(False)\n",
    "\n",
    "mini = +np.inf\n",
    "maxi = -np.inf\n",
    "\n",
    "for i, (data, target) in enumerate(test_loader):\n",
    "    if data.min() < mini: mini = data.min()\n",
    "    if data.max() > maxi: maxi = data.max()\n",
    "\n",
    "lb, hb = mini, maxi"
   ]
  },
  {
   "cell_type": "code",
   "execution_count": 4,
   "id": "a47c8334",
   "metadata": {},
   "outputs": [],
   "source": [
    "test_loader = get_test_loader(False)\n",
    "for i, (data, target) in enumerate(test_loader):\n",
    "    break"
   ]
  },
  {
   "cell_type": "code",
   "execution_count": 5,
   "id": "a89667b0",
   "metadata": {},
   "outputs": [
    {
     "data": {
      "image/png": "[encoded data removed]",
      "text/plain": [
       "<Figure size 432x288 with 1 Axes>"
      ]
     },
     "metadata": {
      "needs_background": "light"
     },
     "output_type": "display_data"
    }
   ],
   "source": [
    "x = data[6]\n",
    "plt.imshow(x[0])\n",
    "plt.show()"
   ]
  },
  {
   "cell_type": "markdown",
   "id": "82a06648",
   "metadata": {},
   "source": [
    "### Load model and compute forward pass"
   ]
  },
  {
   "cell_type": "code",
   "execution_count": 20,
   "id": "30f06633",
   "metadata": {},
   "outputs": [
    {
     "name": "stdout",
     "output_type": "stream",
     "text": [
      "0 Linear(in_features=320, out_features=50, bias=True)\n",
      "3 Linear(in_features=50, out_features=10, bias=True)\n"
     ]
    }
   ],
   "source": [
    "layers = list(model._modules['features']) + [\"reshape\"] + tut_utils.toconv(list(model._modules['classifier']))\n",
    "layers = [l for l in layers if not isinstance(l, torch.nn.Dropout1d)]\n",
    "L = len(layers)"
   ]
  },
  {
   "cell_type": "code",
   "execution_count": 21,
   "id": "f7e7cc44",
   "metadata": {},
   "outputs": [],
   "source": [
    "# A = [data]+[None]*L\n",
    "A = [x[None]]+[None]*L\n",
    "\n",
    "for l in range(L):\n",
    "    if layers[l] == \"reshape\":\n",
    "        A[l+1] = A[l].reshape((-1, 320, 1, 1))\n",
    "    else:\n",
    "        A[l+1] = layers[l].forward(A[l])"
   ]
  },
  {
   "cell_type": "code",
   "execution_count": 22,
   "id": "a6d46685",
   "metadata": {},
   "outputs": [
    {
     "name": "stdout",
     "output_type": "stream",
     "text": [
      "0 Input: [1, 1, 28, 28] -> Conv2d [10, 1, 5, 5]\n",
      "1 Input: [1, 10, 24, 24] -> MaxPool2d \n",
      "2 Input: [1, 10, 12, 12] -> ReLU \n",
      "3 Input: [1, 10, 12, 12] -> Conv2d [20, 10, 5, 5]\n",
      "4 Input: [1, 20, 8, 8] -> Dropout2d \n",
      "5 Input: [1, 20, 8, 8] -> MaxPool2d \n",
      "6 Input: [1, 20, 4, 4] -> ReLU \n",
      "7 Input: [1, 20, 4, 4] -> reshape \n",
      "8 Input: [1, 320, 1, 1] -> Conv2d [50, 320, 1, 1]\n",
      "9 Input: [1, 50, 1, 1] -> ReLU \n",
      "10 Input: [1, 50, 1, 1] -> Conv2d [10, 50, 1, 1]\n",
      "11 Output: [1, 10, 1, 1]\n"
     ]
    }
   ],
   "source": [
    "for i in range(L):\n",
    "    l = layers[i]\n",
    "    print(i, \"Input:\", list(A[i].shape), '->', str(l).split('(')[0],\n",
    "    (list(l.weight.shape)) if isinstance(l, torch.nn.Conv2d) else \"\")\n",
    "print(L, \"Output:\", list(A[L].shape))"
   ]
  },
  {
   "cell_type": "code",
   "execution_count": 71,
   "id": "d1a26a93",
   "metadata": {},
   "outputs": [],
   "source": [
    "layers_conv_as_mat = [None]*L\n",
    "for l in range(L):\n",
    "    if isinstance(layers[l], torch.nn.Conv2d):\n",
    "        layers_conv_as_mat[l] = Conv2dAsMatrixLayer(layers[l], A[l][0].shape, A[l+1][0].shape)\n",
    "        a = layers_conv_as_mat[l].forward(A[l])\n",
    "        b = layers[l]            .forward(A[l])\n",
    "\n",
    "        assert a.shape == b.shape, \"Inequal shape\"\n",
    "        assert torch.allclose(a, b, atol=1e-5), f\"Inequal result, max diff: {(a-b).abs().max()}\""
   ]
  },
  {
   "cell_type": "code",
   "execution_count": 115,
   "id": "7e5e85b7",
   "metadata": {},
   "outputs": [],
   "source": [
    "modes = {\n",
    "    0: \"LRP-0\", \n",
    "    1: \"Gamma < 4\",\n",
    "    \n",
    "    # 5: \"LRP-composite\", \n",
    "\n",
    "    # 11: \"Gamma per Neuron >= 20\", \n",
    "    12: \"Gamma per Neuron < 4\", \n",
    "    \n",
    "    # 21: \"Gamma wo Sign Flips >= 20\", \n",
    "    # 22: \"Gamma wo Sign Flips < 16\",\n",
    "\n",
    "    # 99: \"info\"\n",
    "\n",
    "    101: \"Gamma < 4 mat\",\n",
    "    112: \"Gamma per Neuron < 4 mat\",\n",
    "}\n",
    "relevancies_per_mode = {}\n",
    "\n",
    "def rel(index):\n",
    "    if type(index) is int:\n",
    "        index = modes[index]\n",
    "    assert type(index) is str\n",
    "    return copy.deepcopy(relevancies_per_mode[index])"
   ]
  },
  {
   "cell_type": "code",
   "execution_count": 123,
   "id": "36001210",
   "metadata": {},
   "outputs": [
    {
     "name": "stderr",
     "output_type": "stream",
     "text": [
      "100%|██████████| 5/5 [00:00<00:00, 14.01it/s]\n"
     ]
    }
   ],
   "source": [
    "param_gamma = .8\n",
    "param_gamma_scale = .99\n",
    "res = []\n",
    "\n",
    "for mode in tqdm(modes.values()):\n",
    "    # if mode in relevancies_per_mode: continue\n",
    "\n",
    "    R = [None]*L + [(A[-1]*(A[-1] == A[-1].max())).data]\n",
    "\n",
    "    for l in range(1,L)[::-1]:\n",
    "        \n",
    "        A[l] = (A[l].data).requires_grad_(True)\n",
    "\n",
    "        if isinstance(layers[l],torch.nn.MaxPool2d): layers[l] = torch.nn.AvgPool2d(2)\n",
    "\n",
    "        if isinstance(layers[l],torch.nn.Conv2d) or isinstance(layers[l],torch.nn.AvgPool2d):\n",
    "\n",
    "            if isinstance(layers[l], torch.nn.AvgPool2d):\n",
    "                helper_layer = tut_utils.newlayer(layers[l], rho)\n",
    "\n",
    "            elif mode=='Gamma < 4' and l < 4:\n",
    "                rho = lambda p: p + param_gamma*p.clamp(min=0);\n",
    "                helper_layer = tut_utils.newlayer(layers[l], rho)\n",
    "\n",
    "            elif mode=='Gamma per Neuron < 4' and l < 4:\n",
    "                helper_layer = GammaPerNeuronLayer(layers[l], gamma_scale=param_gamma_scale)\n",
    "\n",
    "            elif mode=='Gamma < 4 mat' and l < 4:\n",
    "                helper_layer = copy.deepcopy(layers_conv_as_mat[l])\n",
    "                helper_layer.set_gamma(param_gamma)\n",
    "\n",
    "            elif mode=='Gamma per Neuron < 4 mat' and l < 4:\n",
    "                helper_layer = copy.deepcopy(layers_conv_as_mat[l])\n",
    "                helper_layer.set_gamma_per_neuron(param_gamma_scale)\n",
    "                \n",
    "            else:\n",
    "                rho = lambda p: p;\n",
    "                helper_layer = tut_utils.newlayer(layers[l], rho)\n",
    "\n",
    "            incr = lambda z: z+1e-9\n",
    "            z = incr(helper_layer.forward(A[l]))                            # step 1\n",
    "\n",
    "            s = (R[l+1]/z).data                                             # step 2\n",
    "            (z*s).sum().backward(); c = A[l].grad                           # step 3\n",
    "            R[l] = (A[l]*c).data \n",
    "\n",
    "            if mode=='info':\n",
    "                print(A[l].shape, '->', z.shape)\n",
    "                print(A[l].flatten().shape, '->', z.flatten().shape)\n",
    "\n",
    "        elif layers[l] == \"reshape\":\n",
    "            R[l] = R[l+1].reshape(A[l].shape)\n",
    "        else:\n",
    "            R[l] = R[l+1]\n",
    "\n",
    "        # if l == 3:\n",
    "        #     # res.append((A[l]*c).data)\n",
    "        #     res.append(z)\n",
    "\n",
    "\n",
    "    ### layer 0 => zB rule -> My implementation sucks though ###\n",
    "\n",
    "    # A[0] = (A[0].data).requires_grad_(True)\n",
    "    # lb = (A[0].data*0+(0-mean)/std).requires_grad_(True)\n",
    "    # hb = (A[0].data*0+(1-mean)/std).requires_grad_(True)\n",
    "\n",
    "    # z = layers[0].forward(A[0]) + 1e-9                                     # step 1 (a)\n",
    "    # z -= tut_utils.newlayer(layers[0],lambda p: p.clamp(min=0)).forward(lb)    # step 1 (b)\n",
    "    # z -= tut_utils.newlayer(layers[0],lambda p: p.clamp(max=0)).forward(hb)    # step 1 (c)\n",
    "    # s = (R[1]/z).data                                                      # step 2\n",
    "    # (z*s).sum().backward(); c,cp,cm = A[0].grad,lb.grad,hb.grad            # step 3\n",
    "    # R[0] = (A[0]*c+lb*cp+hb*cm).data                                       # step 4\n",
    "\n",
    "    if mode==\"info\": continue\n",
    "    relevancies_per_mode[mode] = copy.deepcopy(R)"
   ]
  },
  {
   "cell_type": "code",
   "execution_count": 125,
   "id": "54e32463",
   "metadata": {},
   "outputs": [
    {
     "name": "stdout",
     "output_type": "stream",
     "text": [
      "shape: (20, 4, 4) - before layer reshape\n",
      "mean absolute relevancy 0.09250301\n"
     ]
    },
    {
     "data": {
      "image/png": "[encoded data removed]",
      "text/plain": [
       "<Figure size 108x108 with 1 Axes>"
      ]
     },
     "metadata": {
      "needs_background": "light"
     },
     "output_type": "display_data"
    },
    {
     "name": "stdout",
     "output_type": "stream",
     "text": [
      "shape: (20, 8, 8) - before layer AvgPool2d(kernel_size=2, stride=2, padding=0)\n",
      "mean absolute relevancy 0.053904705\n"
     ]
    },
    {
     "data": {
      "image/png": "[encoded data removed]",
      "text/plain": [
       "<Figure size 144x144 with 1 Axes>"
      ]
     },
     "metadata": {
      "needs_background": "light"
     },
     "output_type": "display_data"
    },
    {
     "name": "stdout",
     "output_type": "stream",
     "text": [
      "shape: (10, 12, 12) - before layer Conv2d(10, 20, kernel_size=(5, 5), stride=(1, 1))\n",
      "mean absolute relevancy 12.410915\n"
     ]
    },
    {
     "data": {
      "image/png": "[encoded data removed]",
      "text/plain": [
       "<Figure size 180x180 with 1 Axes>"
      ]
     },
     "metadata": {
      "needs_background": "light"
     },
     "output_type": "display_data"
    }
   ],
   "source": [
    "R = rel(12)\n",
    "\n",
    "for i,l in enumerate([7, 5, 3]):\n",
    "    dat = np.array(R[l][0])\n",
    "    print(\"shape:\", dat.shape, \"- before layer\", layers[l])\n",
    "    print(\"mean absolute relevancy\", np.abs(dat).mean())\n",
    "    tut_utils.heatmap(dat.sum(axis=0), 0.5*i+1.5, 0.5*i+1.5)"
   ]
  },
  {
   "cell_type": "code",
   "execution_count": 127,
   "id": "54e32463",
   "metadata": {},
   "outputs": [
    {
     "name": "stdout",
     "output_type": "stream",
     "text": [
      "shape: (20, 4, 4) - before layer reshape\n",
      "mean absolute relevancy 0.09250301\n"
     ]
    },
    {
     "data": {
      "image/png": "[encoded data removed]",
      "text/plain": [
       "<Figure size 108x108 with 1 Axes>"
      ]
     },
     "metadata": {
      "needs_background": "light"
     },
     "output_type": "display_data"
    },
    {
     "name": "stdout",
     "output_type": "stream",
     "text": [
      "shape: (20, 8, 8) - before layer AvgPool2d(kernel_size=2, stride=2, padding=0)\n",
      "mean absolute relevancy 0.053904705\n"
     ]
    },
    {
     "data": {
      "image/png": "[encoded data removed]",
      "text/plain": [
       "<Figure size 144x144 with 1 Axes>"
      ]
     },
     "metadata": {
      "needs_background": "light"
     },
     "output_type": "display_data"
    },
    {
     "name": "stdout",
     "output_type": "stream",
     "text": [
      "shape: (10, 12, 12) - before layer Conv2d(10, 20, kernel_size=(5, 5), stride=(1, 1))\n",
      "mean absolute relevancy 0.17025058\n"
     ]
    },
    {
     "data": {
      "image/png": "[encoded data removed]",
      "text/plain": [
       "<Figure size 180x180 with 1 Axes>"
      ]
     },
     "metadata": {
      "needs_background": "light"
     },
     "output_type": "display_data"
    }
   ],
   "source": [
    "R = rel(112)\n",
    "\n",
    "for i,l in enumerate([7, 5, 3]):\n",
    "    dat = np.array(R[l][0])\n",
    "    print(\"shape:\", dat.shape, \"- before layer\", layers[l])\n",
    "    print(\"mean absolute relevancy\", np.abs(dat).mean())\n",
    "    tut_utils.heatmap(dat.sum(axis=0), 0.5*i+1.5, 0.5*i+1.5)"
   ]
  },
  {
   "cell_type": "code",
   "execution_count": 128,
   "id": "54e32463",
   "metadata": {},
   "outputs": [
    {
     "name": "stdout",
     "output_type": "stream",
     "text": [
      "max diff in relevancy tensor(0.)\n",
      "torch.Size([20, 8, 8])\n"
     ]
    },
    {
     "data": {
      "image/png": "[encoded data removed]",
      "text/plain": [
       "<Figure size 108x108 with 1 Axes>"
      ]
     },
     "metadata": {
      "needs_background": "light"
     },
     "output_type": "display_data"
    },
    {
     "name": "stdout",
     "output_type": "stream",
     "text": [
      "max diff in relevancy tensor(665.5602)\n",
      "torch.Size([10, 12, 12])\n"
     ]
    },
    {
     "data": {
      "image/png": "[encoded data removed]",
      "text/plain": [
       "<Figure size 144x144 with 1 Axes>"
      ]
     },
     "metadata": {
      "needs_background": "light"
     },
     "output_type": "display_data"
    }
   ],
   "source": [
    "R1 = rel(12)\n",
    "R101 = rel(112)\n",
    "\n",
    "for i,l in enumerate([4,3]):\n",
    "    dat = (R1[l][0] - R101[l][0]) # .abs()\n",
    "\n",
    "    print(\"max diff in relevancy\", np.abs(dat).max())\n",
    "    print(dat.shape)\n",
    "    tut_utils.heatmap(dat.sum(axis=0), 0.5*i+1.5,0.5*i+1.5)"
   ]
  },
  {
   "cell_type": "markdown",
   "id": "67344788",
   "metadata": {},
   "source": [
    "### Explaining the model with LRP"
   ]
  },
  {
   "cell_type": "markdown",
   "id": "68d73aa8",
   "metadata": {},
   "source": [
    "# Here I stopped the implementation, bc I would have to rewrite a lot of the code and I'm more interested in the CNN Mnist."
   ]
  },
  {
   "cell_type": "code",
   "execution_count": 13,
   "id": "7d092023",
   "metadata": {},
   "outputs": [
    {
     "ename": "ValueError",
     "evalue": "operands could not be broadcast together with shapes (100,10) (1,12,100) ",
     "output_type": "error",
     "traceback": [
      "\u001b[0;31m---------------------------------------------------------------------------\u001b[0m",
      "\u001b[0;31mValueError\u001b[0m                                Traceback (most recent call last)",
      "\u001b[1;32m/Users/johannes/Repositories/Masterarbeit/gamma-mnist-mlp-entire-network.ipynb Cell 11\u001b[0m in \u001b[0;36m<cell line: 17>\u001b[0;34m()\u001b[0m\n\u001b[1;32m     <a href='vscode-notebook-cell:/Users/johannes/Repositories/Masterarbeit/gamma-mnist-mlp-entire-network.ipynb#X13sZmlsZQ%3D%3D?line=14'>15</a>\u001b[0m \u001b[39mdef\u001b[39;00m \u001b[39mincr\u001b[39m(z,l): \u001b[39mreturn\u001b[39;00m z \u001b[39m+\u001b[39m [\u001b[39mNone\u001b[39;00m,\u001b[39m0.0\u001b[39m,\u001b[39m0.1\u001b[39m,\u001b[39m0.0\u001b[39m][l] \u001b[39m*\u001b[39m (z\u001b[39m*\u001b[39m\u001b[39m*\u001b[39m\u001b[39m2\u001b[39m)\u001b[39m.\u001b[39mmean()\u001b[39m*\u001b[39m\u001b[39m*\u001b[39m\u001b[39m.5\u001b[39m\u001b[39m+\u001b[39m\u001b[39m1e-9\u001b[39m\n\u001b[1;32m     <a href='vscode-notebook-cell:/Users/johannes/Repositories/Masterarbeit/gamma-mnist-mlp-entire-network.ipynb#X13sZmlsZQ%3D%3D?line=16'>17</a>\u001b[0m \u001b[39mfor\u001b[39;00m l \u001b[39min\u001b[39;00m \u001b[39mrange\u001b[39m(\u001b[39m1\u001b[39m,L)[::\u001b[39m-\u001b[39m\u001b[39m1\u001b[39m]:\n\u001b[0;32m---> <a href='vscode-notebook-cell:/Users/johannes/Repositories/Masterarbeit/gamma-mnist-mlp-entire-network.ipynb#X13sZmlsZQ%3D%3D?line=18'>19</a>\u001b[0m     w \u001b[39m=\u001b[39m rho(W[l],l, A[l])\n\u001b[1;32m     <a href='vscode-notebook-cell:/Users/johannes/Repositories/Masterarbeit/gamma-mnist-mlp-entire-network.ipynb#X13sZmlsZQ%3D%3D?line=19'>20</a>\u001b[0m     b \u001b[39m=\u001b[39m rho(B[l],l)\n\u001b[1;32m     <a href='vscode-notebook-cell:/Users/johannes/Repositories/Masterarbeit/gamma-mnist-mlp-entire-network.ipynb#X13sZmlsZQ%3D%3D?line=21'>22</a>\u001b[0m     z \u001b[39m=\u001b[39m incr(A[l]\u001b[39m.\u001b[39mdot(w)\u001b[39m+\u001b[39mb,l)    \u001b[39m# step 1\u001b[39;00m\n",
      "\u001b[1;32m/Users/johannes/Repositories/Masterarbeit/gamma-mnist-mlp-entire-network.ipynb Cell 11\u001b[0m in \u001b[0;36mrho\u001b[0;34m(w, l, x)\u001b[0m\n\u001b[1;32m      <a href='vscode-notebook-cell:/Users/johannes/Repositories/Masterarbeit/gamma-mnist-mlp-entire-network.ipynb#X13sZmlsZQ%3D%3D?line=4'>5</a>\u001b[0m     \u001b[39mreturn\u001b[39;00m w \u001b[39m+\u001b[39m [\u001b[39mNone\u001b[39;00m,\u001b[39m0.1\u001b[39m,\u001b[39m0.0\u001b[39m,\u001b[39m0.0\u001b[39m][l] \u001b[39m*\u001b[39m np\u001b[39m.\u001b[39mmaximum(\u001b[39m0\u001b[39m,w)\n\u001b[1;32m      <a href='vscode-notebook-cell:/Users/johannes/Repositories/Masterarbeit/gamma-mnist-mlp-entire-network.ipynb#X13sZmlsZQ%3D%3D?line=6'>7</a>\u001b[0m \u001b[39m# neuron wise gamma rule\u001b[39;00m\n\u001b[0;32m----> <a href='vscode-notebook-cell:/Users/johannes/Repositories/Masterarbeit/gamma-mnist-mlp-entire-network.ipynb#X13sZmlsZQ%3D%3D?line=7'>8</a>\u001b[0m gammas \u001b[39m=\u001b[39m calc_gamma_for_sign_flip(w, x, log\u001b[39m=\u001b[39;49m\u001b[39mFalse\u001b[39;49;00m)\n\u001b[1;32m      <a href='vscode-notebook-cell:/Users/johannes/Repositories/Masterarbeit/gamma-mnist-mlp-entire-network.ipynb#X13sZmlsZQ%3D%3D?line=8'>9</a>\u001b[0m gammas \u001b[39m=\u001b[39m gammas\u001b[39m.\u001b[39mclip(\u001b[39mmin\u001b[39m\u001b[39m=\u001b[39m\u001b[39m0\u001b[39m, \u001b[39mmax\u001b[39m\u001b[39m=\u001b[39m\u001b[39m10000\u001b[39m)\n\u001b[1;32m     <a href='vscode-notebook-cell:/Users/johannes/Repositories/Masterarbeit/gamma-mnist-mlp-entire-network.ipynb#X13sZmlsZQ%3D%3D?line=10'>11</a>\u001b[0m \u001b[39mprint\u001b[39m(gammas[:\u001b[39m8\u001b[39m, :\u001b[39m8\u001b[39m])\n",
      "File \u001b[0;32m~/Repositories/Masterarbeit/util/util_gamma_rule.py:392\u001b[0m, in \u001b[0;36mcalc_gamma_for_sign_flip\u001b[0;34m(W, curr, log)\u001b[0m\n\u001b[1;32m    386\u001b[0m \u001b[39mdef\u001b[39;00m \u001b[39mcalc_gamma_for_sign_flip\u001b[39m(W, curr, log\u001b[39m=\u001b[39m\u001b[39mFalse\u001b[39;00m):\n\u001b[1;32m    387\u001b[0m \n\u001b[1;32m    388\u001b[0m     \u001b[39m# Multiply weights * earlier layer activations.\u001b[39;00m\n\u001b[1;32m    389\u001b[0m     \u001b[39m# Then mask them out by if they are positive\u001b[39;00m\n\u001b[1;32m    390\u001b[0m     \u001b[39m# Then sum axis 1 to obtain row-wise sum at negative/positive entry positions.\u001b[39;00m\n\u001b[0;32m--> 392\u001b[0m     sum_at_pos_weight_entries \u001b[39m=\u001b[39m (W \u001b[39m*\u001b[39;49m curr[\u001b[39mNone\u001b[39;49;00m, :] \u001b[39m*\u001b[39m (W \u001b[39m>\u001b[39m \u001b[39m0\u001b[39m))\u001b[39m.\u001b[39msum(axis\u001b[39m=\u001b[39m\u001b[39m1\u001b[39m)\n\u001b[1;32m    393\u001b[0m     sum_at_neg_weight_entries \u001b[39m=\u001b[39m (W \u001b[39m*\u001b[39m curr[\u001b[39mNone\u001b[39;00m, :] \u001b[39m*\u001b[39m (W \u001b[39m<\u001b[39m \u001b[39m0\u001b[39m))\u001b[39m.\u001b[39msum(axis\u001b[39m=\u001b[39m\u001b[39m1\u001b[39m)\n\u001b[1;32m    394\u001b[0m     gamma_at_sign_flip \u001b[39m=\u001b[39m \u001b[39m-\u001b[39m sum_at_neg_weight_entries \u001b[39m/\u001b[39m sum_at_pos_weight_entries \u001b[39m-\u001b[39m \u001b[39m1\u001b[39m\n",
      "\u001b[0;31mValueError\u001b[0m: operands could not be broadcast together with shapes (100,10) (1,12,100) "
     ]
    }
   ],
   "source": [
    "R = [None]*L + [A[L]*(T[:,None]==np.arange(10))]\n",
    "\n",
    "def rho(w,l, x=None):\n",
    "    if x is None: # normal gamma rule\n",
    "        return w + [None,0.1,0.0,0.0][l] * np.maximum(0,w)\n",
    "\n",
    "    # neuron wise gamma rule\n",
    "    gammas = calc_gamma_for_sign_flip(w, x, log=False)\n",
    "    gammas = gammas.clip(min=0, max=10000)\n",
    "\n",
    "    print(gammas[:8, :8])\n",
    "\n",
    "    return w + np.maximum(0,w) * gammas * [None, 0.0, 0.99, 0.0][l]\n",
    "\n",
    "def incr(z,l): return z + [None,0.0,0.1,0.0][l] * (z**2).mean()**.5+1e-9\n",
    "\n",
    "for l in range(1,L)[::-1]:\n",
    "\n",
    "    w = rho(W[l],l, A[l])\n",
    "    b = rho(B[l],l)\n",
    "    \n",
    "    z = incr(A[l].dot(w)+b,l)    # step 1\n",
    "    s = R[l+1] / z               # step 2\n",
    "    c = s.dot(w.T)               # step 3\n",
    "    R[l] = A[l]*c                # step 4\n",
    "\n",
    "# input layer -> zB rule\n",
    "w  = W[0]\n",
    "wp = np.maximum(0,w)\n",
    "wm = np.minimum(0,w)\n",
    "lb = A[0]*0-1\n",
    "hb = A[0]*0+1\n",
    "\n",
    "z = A[0].dot(w)-lb.dot(wp)-hb.dot(wm)+1e-9        # step 1\n",
    "s = R[1]/z                                        # step 2\n",
    "c,cp,cm  = s.dot(w.T),s.dot(wp.T),s.dot(wm.T)     # step 3\n",
    "R[0] = A[0]*c-lb*cp-hb*cm                         # step 4"
   ]
  },
  {
   "cell_type": "code",
   "execution_count": 12,
   "id": "44f288bb",
   "metadata": {},
   "outputs": [
    {
     "data": {
      "image/png": "[encoded data removed]",
      "text/plain": [
       "<Figure size 648x54 with 1 Axes>"
      ]
     },
     "metadata": {
      "needs_background": "light"
     },
     "output_type": "display_data"
    },
    {
     "data": {
      "image/png": "[encoded data removed]",
      "text/plain": [
       "<Figure size 648x54 with 1 Axes>"
      ]
     },
     "metadata": {
      "needs_background": "light"
     },
     "output_type": "display_data"
    }
   ],
   "source": [
    "tut_utils.digit(X.reshape(1,12,28,28).transpose(0,2,1,3).reshape(28,12*28),9,0.75)\n",
    "tut_utils.heatmap(R[0].reshape(1,12,28,28).transpose(0,2,1,3).reshape(28,12*28),9,0.75)"
   ]
  },
  {
   "cell_type": "code",
   "execution_count": null,
   "id": "e79bf4ed",
   "metadata": {},
   "outputs": [],
   "source": []
  }
 ],
 "metadata": {
  "kernelspec": {
   "display_name": "Python 3.10.6 ('msc2')",
   "language": "python",
   "name": "python3"
  },
  "language_info": {
   "codemirror_mode": {
    "name": "ipython",
    "version": 3
   },
   "file_extension": ".py",
   "mimetype": "text/x-python",
   "name": "python",
   "nbconvert_exporter": "python",
   "pygments_lexer": "ipython3",
   "version": "3.10.6"
  },
  "vscode": {
   "interpreter": {
    "hash": "40ad2c03c17557284bace66cd0cecbe491b3c623652727d704ae49af2d20eff2"
   }
  }
 },
 "nbformat": 4,
 "nbformat_minor": 5
}
